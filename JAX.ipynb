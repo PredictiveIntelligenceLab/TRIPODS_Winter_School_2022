{
  "nbformat": 4,
  "nbformat_minor": 0,
  "metadata": {
    "colab": {
      "name": "JAX.ipynb",
      "provenance": [],
      "collapsed_sections": []
    },
    "kernelspec": {
      "name": "python3",
      "display_name": "Python 3"
    },
    "language_info": {
      "name": "python"
    }
  },
  "cells": [
    {
      "cell_type": "markdown",
      "source": [
        "<img src=\"https://raw.githubusercontent.com/google/jax/main/images/jax_logo_250px.png\" align=\"center\"/><br>\n",
        "\n"
      ],
      "metadata": {
        "id": "7X68A6EY7xq4"
      }
    },
    {
      "cell_type": "markdown",
      "source": [
        "# What is JAX?\n",
        "\n",
        "[JAX](https://github.com/google/jax) is a Python library designed for high-performance numerical computing, especially machine learning research. JAX has a NumPy like syntax and runs on the CPU, GPU, and TPU, with fast and efficient automatic differentiation suitable for high-performance computing and machine learning research.\n",
        "\n",
        "JAX lets you just-in-time compile your own Python functions into XLA-optimized kernels using a one-function API. Compilation and automatic differentiation can be composed arbitrarily, so you can express sophisticated algorithms and get maximal performance while maintaining a NumPy like syntax.\n",
        "\n",
        "\n",
        "References: \n",
        "- [DeepMind: Using JAX to accelerate our research](https://deepmind.com/blog/article/using-jax-to-accelerate-our-research)\n",
        "- [DeepMind: Scientific advances, real world benefits](https://deepmind.com/impact)\n",
        "- [GitHub Page of JAX](https://github.com/google/jax)"
      ],
      "metadata": {
        "id": "XeIxOrwA2MKi"
      }
    },
    {
      "cell_type": "markdown",
      "source": [
        "# Connections between JAX and NumPy\n",
        "\n",
        "JAX uses XLA to compile and run your NumPy-like code on accelerators, i.e. GPUs and TPUs. Compilation happens under the hood by default, with library calls getting [just-in-time compiled](https://en.wikipedia.org/wiki/Just-in-time_compilation) and executed. \n",
        "\n",
        "We will talk about what the above mean as we progress in the tutorial. For now let's just see how we can perform some simple operations in JAX syntax.\n",
        "\n",
        "References:\n",
        "- [JAX As Accelerated NumPy](https://jax.readthedocs.io/en/latest/jax-101/01-jax-basics.html)\n",
        "- [How to Think in JAX](https://jax.readthedocs.io/en/latest/notebooks/thinking_in_jax.html)"
      ],
      "metadata": {
        "id": "lrfk2vWVUtpQ"
      }
    },
    {
      "cell_type": "code",
      "source": [
        "import jax.numpy as jnp\n",
        "import numpy as np\n",
        "import jax"
      ],
      "metadata": {
        "id": "LpId9UG_8XZt"
      },
      "execution_count": null,
      "outputs": []
    },
    {
      "cell_type": "code",
      "source": [
        "size = 3000\n",
        "x = jnp.ones((100,100))\n",
        "%timeit jnp.dot(x, x.T).block_until_ready()  # runs on the GPU"
      ],
      "metadata": {
        "colab": {
          "base_uri": "https://localhost:8080/"
        },
        "id": "0ZNRMTqJFTXz",
        "outputId": "44f8bc72-f434-4e3f-c15c-b765d4752be9"
      },
      "execution_count": null,
      "outputs": [
        {
          "output_type": "stream",
          "name": "stderr",
          "text": [
            "WARNING:absl:No GPU/TPU found, falling back to CPU. (Set TF_CPP_MIN_LOG_LEVEL=0 and rerun for more info.)\n"
          ]
        },
        {
          "output_type": "stream",
          "name": "stdout",
          "text": [
            "The slowest run took 626.07 times longer than the fastest. This could mean that an intermediate result is being cached.\n",
            "1000 loops, best of 5: 197 µs per loop\n"
          ]
        }
      ]
    },
    {
      "cell_type": "code",
      "source": [
        "x = np.ones((100,100))\n",
        "%timeit np.dot(x, x.T)"
      ],
      "metadata": {
        "colab": {
          "base_uri": "https://localhost:8080/"
        },
        "id": "qU8QM9YtHICI",
        "outputId": "b81469f4-a0a1-417b-81f0-e68ef979bd99"
      },
      "execution_count": null,
      "outputs": [
        {
          "output_type": "stream",
          "name": "stdout",
          "text": [
            "The slowest run took 49.77 times longer than the fastest. This could mean that an intermediate result is being cached.\n",
            "1000 loops, best of 5: 138 µs per loop\n"
          ]
        }
      ]
    },
    {
      "cell_type": "code",
      "source": [
        "import matplotlib.pyplot as plt\n",
        "\n",
        "x_np = np.linspace(0, 10, 1000)\n",
        "y_np = 2 * np.sin(x_np) * np.cos(x_np)\n",
        "plt.plot(x_np, y_np)"
      ],
      "metadata": {
        "colab": {
          "base_uri": "https://localhost:8080/",
          "height": 282
        },
        "id": "OjZPW9gaJigi",
        "outputId": "eb1c5f3b-05fd-4af0-95a1-2d62b91a5867"
      },
      "execution_count": null,
      "outputs": [
        {
          "output_type": "execute_result",
          "data": {
            "text/plain": [
              "[<matplotlib.lines.Line2D at 0x7fb2f8462b10>]"
            ]
          },
          "metadata": {},
          "execution_count": 4
        },
        {
          "output_type": "display_data",
          "data": {
            "image/png": "[encoded data removed]",
            "text/plain": [
              "<Figure size 432x288 with 1 Axes>"
            ]
          },
          "metadata": {
            "needs_background": "light"
          }
        }
      ]
    },
    {
      "cell_type": "code",
      "source": [
        "import jax.numpy as jnp\n",
        "\n",
        "x_jnp = jnp.linspace(0, 10, 1000)\n",
        "y_jnp = 2 * jnp.sin(x_jnp) * jnp.cos(x_jnp)\n",
        "plt.plot(x_jnp, y_jnp);"
      ],
      "metadata": {
        "colab": {
          "base_uri": "https://localhost:8080/",
          "height": 265
        },
        "id": "o6fIVQ--M1xL",
        "outputId": "41119bb5-c597-4e45-dbf8-04b59f6988ed"
      },
      "execution_count": null,
      "outputs": [
        {
          "output_type": "display_data",
          "data": {
            "image/png": "[encoded data removed]",
            "text/plain": [
              "<Figure size 432x288 with 1 Axes>"
            ]
          },
          "metadata": {
            "needs_background": "light"
          }
        }
      ]
    },
    {
      "cell_type": "code",
      "source": [
        "type(x_np)"
      ],
      "metadata": {
        "colab": {
          "base_uri": "https://localhost:8080/"
        },
        "id": "5_yU-wilM5Wf",
        "outputId": "779ab012-b5b1-474b-f136-c976c72e0fff"
      },
      "execution_count": null,
      "outputs": [
        {
          "output_type": "execute_result",
          "data": {
            "text/plain": [
              "numpy.ndarray"
            ]
          },
          "metadata": {},
          "execution_count": 6
        }
      ]
    },
    {
      "cell_type": "code",
      "source": [
        "type(x_jnp)"
      ],
      "metadata": {
        "colab": {
          "base_uri": "https://localhost:8080/"
        },
        "id": "uyCgUQkzSzCc",
        "outputId": "60e649e5-d73f-4623-885f-b0b86137b7ff"
      },
      "execution_count": null,
      "outputs": [
        {
          "output_type": "execute_result",
          "data": {
            "text/plain": [
              "jaxlib.xla_extension.DeviceArray"
            ]
          },
          "metadata": {},
          "execution_count": 7
        }
      ]
    },
    {
      "cell_type": "markdown",
      "source": [
        "\n",
        "# Device Arrays \n",
        "\n",
        "It is the core array object in JAX. Some useful properties of the DeviceArray is that it is:\n",
        "\n",
        "- Device agnostic, meaning we can run the same JAX code on CPUs, GPUs and TPUs.\n",
        "- They are lazy, meaning the value of a DeviceArray is available only when requested.\n",
        "- DeviceArray structure is immutable, meaning that it cannot be changed\n",
        "\n",
        "Being device agnostic and lazy give JAX a huge advantage in code simplicity and computational speed.\n",
        "\n",
        "\n",
        "References:\n",
        "- [Useful tutorial that explains DeviceArray](https://github.com/AakashKumarNain/TF_JAX_tutorials/blob/main/src/notebooks/jax_tutorials/chapter_1_devicearray.ipynb)\n",
        "\n",
        "- [JAX Documentation](https://jax.readthedocs.io/en/latest/)\n",
        "- [JAX for the impatient](https://flax.readthedocs.io/en/latest/notebooks/jax_for_the_impatient.html)\n"
      ],
      "metadata": {
        "id": "wnmLbNzuOzcc"
      }
    },
    {
      "cell_type": "markdown",
      "source": [
        "**What does an immutable array mean?**"
      ],
      "metadata": {
        "id": "XEwT813WxvVs"
      }
    },
    {
      "cell_type": "code",
      "source": [
        "x_jnp[0:10] = 0.1"
      ],
      "metadata": {
        "id": "8MjgZBt4IEzt"
      },
      "execution_count": null,
      "outputs": []
    },
    {
      "cell_type": "markdown",
      "source": [
        "If we need to assign new values to an array, we need to use the index_update function:"
      ],
      "metadata": {
        "id": "HBoawwBvDkNn"
      }
    },
    {
      "cell_type": "code",
      "source": [
        "x_new = jax.ops.index_update(x_jnp, jax.ops.index[0:10], 0.1)"
      ],
      "metadata": {
        "id": "UiQt2CuYDjiR"
      },
      "execution_count": null,
      "outputs": []
    },
    {
      "cell_type": "markdown",
      "source": [
        "# Pure Functions"
      ],
      "metadata": {
        "id": "nqVgVwUoe4B3"
      }
    },
    {
      "cell_type": "markdown",
      "source": [
        "JAX transformation and compilation are designed to work only on Python functions that are functionally pure, meaning:\n",
        "\n",
        "\n",
        "\n",
        "1.   When given identical inputs, the function returns identical outputs, (no variation with local [static variables](https://en.wikipedia.org/wiki/Static_variable), non-local variables, mutable reference arguments or input streams).\n",
        "2.   The function cannot produce any [side effect](https://en.wikipedia.org/wiki/Side_effect_(computer_science)) (no mutation of local static variables, non-local variables, mutable reference arguments or input/output streams).\n",
        "\n",
        "Here are some examples of functions that are not functionally pure for which JAX behaves differently than the Python interpreter. The behavior of these functions can be unexpected as it is not guaranteed by the JAX system.\n",
        "\n",
        "References: \n",
        "- [Wikipedia](https://en.wikipedia.org/wiki/Pure_function)\n",
        "- [Jax Documentation](https://jax.readthedocs.io/en/latest/index.html)"
      ],
      "metadata": {
        "id": "L_ANFI_ne6vu"
      }
    },
    {
      "cell_type": "code",
      "source": [
        "def impure_print_side_effect(x):\n",
        "  print(\"Executing function\")  # This is a side-effect (output stream).\n",
        "  return x\n",
        "\n",
        "impure_print_side_effect(4.)"
      ],
      "metadata": {
        "colab": {
          "base_uri": "https://localhost:8080/"
        },
        "id": "Z2bms-54S1Bg",
        "outputId": "40a05a48-5334-46f0-bfcc-63e55f4766b6"
      },
      "execution_count": null,
      "outputs": [
        {
          "output_type": "stream",
          "name": "stdout",
          "text": [
            "Executing function\n"
          ]
        },
        {
          "output_type": "execute_result",
          "data": {
            "text/plain": [
              "4.0"
            ]
          },
          "metadata": {},
          "execution_count": 12
        }
      ]
    },
    {
      "cell_type": "code",
      "source": [
        "def impure_uses_append(x):\n",
        "    x.append(sum(x)) # This is a side-effect (mutating the function argument).\n",
        "    return x\n",
        "\n",
        "impure_uses_append([1.,2.,3.])"
      ],
      "metadata": {
        "colab": {
          "base_uri": "https://localhost:8080/"
        },
        "id": "3eVrmriXfAAc",
        "outputId": "af1bd84a-b327-4939-c021-ea624ac233ab"
      },
      "execution_count": null,
      "outputs": [
        {
          "output_type": "execute_result",
          "data": {
            "text/plain": [
              "[1.0, 2.0, 3.0, 6.0]"
            ]
          },
          "metadata": {},
          "execution_count": 13
        }
      ]
    },
    {
      "cell_type": "code",
      "source": [
        "global_variable = 1.\n",
        "def impure_uses_global(x):\n",
        "    global global_variable \n",
        "    global_variable += 1 # This is a side-effect (mutating a non-local variable).\n",
        "    return x\n",
        "\n",
        "impure_uses_global(4.)"
      ],
      "metadata": {
        "colab": {
          "base_uri": "https://localhost:8080/"
        },
        "id": "o-EewBLTzLR9",
        "outputId": "9f0982da-a010-4581-f561-785a8eaf2ef8"
      },
      "execution_count": null,
      "outputs": [
        {
          "output_type": "execute_result",
          "data": {
            "text/plain": [
              "4.0"
            ]
          },
          "metadata": {},
          "execution_count": 14
        }
      ]
    },
    {
      "cell_type": "markdown",
      "source": [
        "**But why does JAX require functionally pure Python functions?**\n",
        "\n",
        "To answer this question, we need to first understand some of internal workings of JAX. Let's start by talking about Jaxprs (JAX expressions)."
      ],
      "metadata": {
        "id": "HiqB47CY1x84"
      }
    },
    {
      "cell_type": "markdown",
      "source": [
        "# The Jaxpr Intermediate Language\n",
        "\n",
        "In the previous section, we discussed that JAX allows us to transform Python functions. This is done by first converting the Python function into a simple intermediate language called jaxpr. The transformations then work on the jaxpr representation. \n",
        "\n",
        "References:\n",
        "- [Understanding Jaxprs](https://jax.readthedocs.io/en/latest/jaxpr.html)\n",
        "- [JAX: The Sharp Bits](https://jax.readthedocs.io/en/latest/notebooks/Common_Gotchas_in_JAX.html)\n",
        "- [Just In Time Compilation with JAX](https://colab.research.google.com/github/google/jax/blob/main/docs/jax-101/02-jitting.ipynb)"
      ],
      "metadata": {
        "id": "BEfqRqk-aRhv"
      }
    },
    {
      "cell_type": "markdown",
      "metadata": {
        "id": "O-SkdlPxvETZ"
      },
      "source": [
        "# Jaxpr for pure functions\n",
        "\n",
        "A jaxpr instance represents a function with a number of variables as inputs and a number of resulting variables. The inputs and outputs have types, which in JAX are represented as abstract values. \n",
        "\n",
        "Let's first define a function that will help us visualize the Jaxpr process:\n",
        "\n",
        "\n"
      ]
    },
    {
      "cell_type": "code",
      "source": [
        "import jax\n",
        "from jax import core\n",
        "from graphviz import Digraph\n",
        "import itertools\n",
        "\n",
        "styles = {\n",
        "  'const': dict(style='filled', color='goldenrod1'),\n",
        "  'invar': dict(color='mediumspringgreen', style='filled'),\n",
        "  'outvar': dict(style='filled,dashed', fillcolor='indianred1', color='black'),\n",
        "  'op_node': dict(shape='box', color='lightskyblue', style='filled'),\n",
        "  'intermediate': dict(style='filled', color='cornflowerblue')\n",
        "}\n",
        "\n",
        "def _jaxpr_graph(jaxpr):\n",
        "    id_names = (f'id{id}' for id in itertools.count())\n",
        "    graph = Digraph(engine='dot')\n",
        "    graph.attr(size='6,10!')\n",
        "    for v in jaxpr.constvars:\n",
        "        graph.node(str(v), core.raise_to_shaped(v.aval).str_short(), styles['const'])\n",
        "    for v in jaxpr.invars:\n",
        "        graph.node(str(v), v.aval.str_short(), styles['invar'])\n",
        "    for eqn in jaxpr.eqns:\n",
        "        for v in eqn.invars:\n",
        "            if isinstance(v, core.Literal):\n",
        "                graph.node(str(id(v.val)), core.raise_to_shaped(core.get_aval(v.val)).str_short(), styles['const'])\n",
        "        if eqn.primitive.multiple_results:\n",
        "            id_name = next(id_names)\n",
        "            graph.node(id_name, str(eqn.primitive), styles['op_node'])\n",
        "            for v in eqn.invars:\n",
        "                graph.edge(str(id(v.val) if isinstance(v, core.Literal) else v), id_name)\n",
        "            for v in eqn.outvars:\n",
        "                graph.node(str(v), v.aval.str_short(), styles['intermediate'])\n",
        "                graph.edge(id_name, str(v))\n",
        "        else:\n",
        "            outv, = eqn.outvars\n",
        "            graph.node(str(outv), str(eqn.primitive), styles['op_node'])\n",
        "            for v in eqn.invars:\n",
        "                graph.edge(str(id(v.val) if isinstance(v, core.Literal) else v), str(outv))\n",
        "    for i, v in enumerate(jaxpr.outvars):\n",
        "        outv = 'out_'+str(i)\n",
        "        graph.node(outv, outv, styles['outvar'])\n",
        "        graph.edge(str(v), outv)\n",
        "    return graph\n",
        "\n",
        "\n",
        "def jaxpr_graph(fun, *args):\n",
        "    jaxpr = jax.make_jaxpr(fun)(*args).jaxpr\n",
        "    return _jaxpr_graph(jaxpr)\n",
        "\n",
        "\n",
        "def grad_graph(fun, *args):\n",
        "    _, fun_vjp = jax.vjp(fun, *args)\n",
        "    jaxpr = fun_vjp.args[0].func.args[1]\n",
        "    return _jaxpr_graph(jaxpr)"
      ],
      "metadata": {
        "id": "zwcx9VYDfCn7"
      },
      "execution_count": null,
      "outputs": []
    },
    {
      "cell_type": "markdown",
      "source": [
        "Now let's see how Jaxpr works for a simple example:"
      ],
      "metadata": {
        "id": "4Y7-wL-5g4W4"
      }
    },
    {
      "cell_type": "code",
      "source": [
        "from jax import make_jaxpr\n",
        "import jax.numpy as jnp\n",
        "def func(first_arg, second_arg):\n",
        "   out = first_arg + jnp.sin(second_arg) * 3.\n",
        "   return out\n",
        "\n",
        "first_arg, second_arg = jnp.zeros(8), jnp.ones(8)\n",
        "print(make_jaxpr(func)(first_arg, second_arg))"
      ],
      "metadata": {
        "colab": {
          "base_uri": "https://localhost:8080/"
        },
        "id": "SjZmOvaS3k3q",
        "outputId": "eab16ee3-f3d1-4d72-d49d-87a362efe550"
      },
      "execution_count": null,
      "outputs": [
        {
          "output_type": "stream",
          "name": "stdout",
          "text": [
            "{ lambda ; a:f32[8] b:f32[8]. let\n",
            "    c:f32[8] = sin b\n",
            "    d:f32[8] = mul c 3.0\n",
            "    e:f32[8] = add a d\n",
            "  in (e,) }\n"
          ]
        }
      ]
    },
    {
      "cell_type": "markdown",
      "source": [
        "Here a and b are the input variables and they correspond to first and second function arguments, respectively. The variables c and d are intermediate parameters and e the result."
      ],
      "metadata": {
        "id": "-nAUf9Po4OSi"
      }
    },
    {
      "cell_type": "code",
      "source": [
        "g = jaxpr_graph(func, first_arg, second_arg)\n",
        "g"
      ],
      "metadata": {
        "colab": {
          "base_uri": "https://localhost:8080/",
          "height": 832
        },
        "id": "mZHFLkJvfMUF",
        "outputId": "217c8bf7-9bd3-4717-c4a8-67518457ad6c"
      },
      "execution_count": null,
      "outputs": [
        {
          "output_type": "execute_result",
          "data": {
            "text/plain": [
              "<graphviz.dot.Digraph at 0x7fb2f841f990>"
            ],
            "image/svg+xml": "<?xml version=\"1.0\" encoding=\"UTF-8\" standalone=\"no\"?>\n<!DOCTYPE svg PUBLIC \"-//W3C//DTD SVG 1.1//EN\"\n \"http://www.w3.org/Graphics/SVG/1.1/DTD/svg11.dtd\">\n<!-- Generated by graphviz version 2.40.1 (20161225.0304)\n -->\n<!-- Title: %3 Pages: 1 -->\n<svg width=\"432pt\" height=\"608pt\"\n viewBox=\"0.00 0.00 432.00 607.75\" xmlns=\"http://www.w3.org/2000/svg\" xmlns:xlink=\"http://www.w3.org/1999/xlink\">\n<g id=\"graph0\" class=\"graph\" transform=\"scale(1.8306 1.8306) rotate(0) translate(4 328)\">\n<title>%3</title>\n<polygon fill=\"#ffffff\" stroke=\"transparent\" points=\"-4,4 -4,-328 231.9919,-328 231.9919,4 -4,4\"/>\n<!-- a -->\n<g id=\"node1\" class=\"node\">\n<title>a</title>\n<ellipse fill=\"#00fa9a\" stroke=\"#00fa9a\" cx=\"48.0957\" cy=\"-162\" rx=\"48.1917\" ry=\"18\"/>\n<text text-anchor=\"middle\" x=\"48.0957\" y=\"-158.3\" font-family=\"Times,serif\" font-size=\"14.00\" fill=\"#000000\">float32[8]</text>\n</g>\n<!-- e -->\n<g id=\"node6\" class=\"node\">\n<title>e</title>\n<polygon fill=\"#87cefa\" stroke=\"#87cefa\" points=\"121.0957,-108 67.0957,-108 67.0957,-72 121.0957,-72 121.0957,-108\"/>\n<text text-anchor=\"middle\" x=\"94.0957\" y=\"-86.3\" font-family=\"Times,serif\" font-size=\"14.00\" fill=\"#000000\">add</text>\n</g>\n<!-- a&#45;&gt;e -->\n<g id=\"edge4\" class=\"edge\">\n<title>a&#45;&gt;e</title>\n<path fill=\"none\" stroke=\"#000000\" d=\"M59.4665,-144.2022C64.7892,-135.871 71.2396,-125.7748 77.1236,-116.565\"/>\n<polygon fill=\"#000000\" stroke=\"#000000\" points=\"80.1017,-118.4045 82.5362,-108.0931 74.2029,-114.6357 80.1017,-118.4045\"/>\n</g>\n<!-- b -->\n<g id=\"node2\" class=\"node\">\n<title>b</title>\n<ellipse fill=\"#00fa9a\" stroke=\"#00fa9a\" cx=\"97.0957\" cy=\"-306\" rx=\"48.1917\" ry=\"18\"/>\n<text text-anchor=\"middle\" x=\"97.0957\" y=\"-302.3\" font-family=\"Times,serif\" font-size=\"14.00\" fill=\"#000000\">float32[8]</text>\n</g>\n<!-- c -->\n<g id=\"node3\" class=\"node\">\n<title>c</title>\n<polygon fill=\"#87cefa\" stroke=\"#87cefa\" points=\"124.0957,-252 70.0957,-252 70.0957,-216 124.0957,-216 124.0957,-252\"/>\n<text text-anchor=\"middle\" x=\"97.0957\" y=\"-230.3\" font-family=\"Times,serif\" font-size=\"14.00\" fill=\"#000000\">sin</text>\n</g>\n<!-- b&#45;&gt;c -->\n<g id=\"edge1\" class=\"edge\">\n<title>b&#45;&gt;c</title>\n<path fill=\"none\" stroke=\"#000000\" d=\"M97.0957,-287.8314C97.0957,-280.131 97.0957,-270.9743 97.0957,-262.4166\"/>\n<polygon fill=\"#000000\" stroke=\"#000000\" points=\"100.5958,-262.4132 97.0957,-252.4133 93.5958,-262.4133 100.5958,-262.4132\"/>\n</g>\n<!-- d -->\n<g id=\"node5\" class=\"node\">\n<title>d</title>\n<polygon fill=\"#87cefa\" stroke=\"#87cefa\" points=\"168.0957,-180 114.0957,-180 114.0957,-144 168.0957,-144 168.0957,-180\"/>\n<text text-anchor=\"middle\" x=\"141.0957\" y=\"-158.3\" font-family=\"Times,serif\" font-size=\"14.00\" fill=\"#000000\">mul</text>\n</g>\n<!-- c&#45;&gt;d -->\n<g id=\"edge2\" class=\"edge\">\n<title>c&#45;&gt;d</title>\n<path fill=\"none\" stroke=\"#000000\" d=\"M108.1988,-215.8314C113.1632,-207.7079 119.1179,-197.9637 124.5885,-189.0118\"/>\n<polygon fill=\"#000000\" stroke=\"#000000\" points=\"127.6151,-190.7712 129.8432,-180.4133 121.6421,-187.121 127.6151,-190.7712\"/>\n</g>\n<!-- 140406632329088 -->\n<g id=\"node4\" class=\"node\">\n<title>140406632329088</title>\n<ellipse fill=\"#ffc125\" stroke=\"#ffc125\" cx=\"185.0957\" cy=\"-234\" rx=\"42.7926\" ry=\"18\"/>\n<text text-anchor=\"middle\" x=\"185.0957\" y=\"-230.3\" font-family=\"Times,serif\" font-size=\"14.00\" fill=\"#000000\">float32[]</text>\n</g>\n<!-- 140406632329088&#45;&gt;d -->\n<g id=\"edge3\" class=\"edge\">\n<title>140406632329088&#45;&gt;d</title>\n<path fill=\"none\" stroke=\"#000000\" d=\"M174.2193,-216.2022C169.1805,-207.9569 163.0852,-197.9828 157.5041,-188.8501\"/>\n<polygon fill=\"#000000\" stroke=\"#000000\" points=\"160.3537,-186.8009 152.1526,-180.0931 154.3807,-190.451 160.3537,-186.8009\"/>\n</g>\n<!-- d&#45;&gt;e -->\n<g id=\"edge5\" class=\"edge\">\n<title>d&#45;&gt;e</title>\n<path fill=\"none\" stroke=\"#000000\" d=\"M129.2356,-143.8314C123.9328,-135.7079 117.5721,-125.9637 111.7284,-117.0118\"/>\n<polygon fill=\"#000000\" stroke=\"#000000\" points=\"114.5126,-114.8739 106.1155,-108.4133 108.6509,-118.7003 114.5126,-114.8739\"/>\n</g>\n<!-- out_0 -->\n<g id=\"node7\" class=\"node\">\n<title>out_0</title>\n<ellipse fill=\"#ff6a6a\" stroke=\"#000000\" stroke-dasharray=\"5,2\" cx=\"94.0957\" cy=\"-18\" rx=\"32.4942\" ry=\"18\"/>\n<text text-anchor=\"middle\" x=\"94.0957\" y=\"-14.3\" font-family=\"Times,serif\" font-size=\"14.00\" fill=\"#000000\">out_0</text>\n</g>\n<!-- e&#45;&gt;out_0 -->\n<g id=\"edge6\" class=\"edge\">\n<title>e&#45;&gt;out_0</title>\n<path fill=\"none\" stroke=\"#000000\" d=\"M94.0957,-71.8314C94.0957,-64.131 94.0957,-54.9743 94.0957,-46.4166\"/>\n<polygon fill=\"#000000\" stroke=\"#000000\" points=\"97.5958,-46.4132 94.0957,-36.4133 90.5958,-46.4133 97.5958,-46.4132\"/>\n</g>\n</g>\n</svg>\n"
          },
          "metadata": {},
          "execution_count": 16
        }
      ]
    },
    {
      "cell_type": "markdown",
      "source": [
        "# Jaxpr for impure functions\n",
        "\n",
        "Let's see how the case of an impure function that appends to a globally defined list is translated to Jaxpr:"
      ],
      "metadata": {
        "id": "F8NS315m5k-u"
      }
    },
    {
      "cell_type": "code",
      "execution_count": null,
      "metadata": {
        "id": "P9Xj77Wx3Z2P",
        "outputId": "3724a317-a3d5-4dbf-83e5-5054279af219",
        "colab": {
          "base_uri": "https://localhost:8080/"
        }
      },
      "outputs": [
        {
          "output_type": "stream",
          "name": "stdout",
          "text": [
            "{ lambda ; a:f32[8] b:f32[8]. let\n",
            "    c:f32[8] = sin b\n",
            "    d:f32[8] = mul c 3.0\n",
            "    e:f32[8] = add a d\n",
            "  in (e,) }\n"
          ]
        }
      ],
      "source": [
        "global_list = []\n",
        "\n",
        "def func(first_arg, second_arg):\n",
        "   global_list.append(first_arg)\n",
        "   out = first_arg + jnp.sin(second_arg) * 3.\n",
        "   return out\n",
        "\n",
        "first_arg, second_arg = jnp.zeros(8), jnp.ones(8)\n",
        "print(make_jaxpr(func)(first_arg, second_arg))"
      ]
    },
    {
      "cell_type": "code",
      "source": [
        "g = jaxpr_graph(func, first_arg, second_arg)\n",
        "g"
      ],
      "metadata": {
        "colab": {
          "base_uri": "https://localhost:8080/",
          "height": 832
        },
        "id": "2xOTux91i4et",
        "outputId": "6848a9e9-e308-4281-f3d9-d6f75dca584c"
      },
      "execution_count": null,
      "outputs": [
        {
          "output_type": "execute_result",
          "data": {
            "text/plain": [
              "<graphviz.dot.Digraph at 0x7fb2f75c5c50>"
            ],
            "image/svg+xml": "<?xml version=\"1.0\" encoding=\"UTF-8\" standalone=\"no\"?>\n<!DOCTYPE svg PUBLIC \"-//W3C//DTD SVG 1.1//EN\"\n \"http://www.w3.org/Graphics/SVG/1.1/DTD/svg11.dtd\">\n<!-- Generated by graphviz version 2.40.1 (20161225.0304)\n -->\n<!-- Title: %3 Pages: 1 -->\n<svg width=\"432pt\" height=\"608pt\"\n viewBox=\"0.00 0.00 432.00 607.75\" xmlns=\"http://www.w3.org/2000/svg\" xmlns:xlink=\"http://www.w3.org/1999/xlink\">\n<g id=\"graph0\" class=\"graph\" transform=\"scale(1.8306 1.8306) rotate(0) translate(4 328)\">\n<title>%3</title>\n<polygon fill=\"#ffffff\" stroke=\"transparent\" points=\"-4,4 -4,-328 231.9919,-328 231.9919,4 -4,4\"/>\n<!-- a -->\n<g id=\"node1\" class=\"node\">\n<title>a</title>\n<ellipse fill=\"#00fa9a\" stroke=\"#00fa9a\" cx=\"48.0957\" cy=\"-162\" rx=\"48.1917\" ry=\"18\"/>\n<text text-anchor=\"middle\" x=\"48.0957\" y=\"-158.3\" font-family=\"Times,serif\" font-size=\"14.00\" fill=\"#000000\">float32[8]</text>\n</g>\n<!-- e -->\n<g id=\"node6\" class=\"node\">\n<title>e</title>\n<polygon fill=\"#87cefa\" stroke=\"#87cefa\" points=\"121.0957,-108 67.0957,-108 67.0957,-72 121.0957,-72 121.0957,-108\"/>\n<text text-anchor=\"middle\" x=\"94.0957\" y=\"-86.3\" font-family=\"Times,serif\" font-size=\"14.00\" fill=\"#000000\">add</text>\n</g>\n<!-- a&#45;&gt;e -->\n<g id=\"edge4\" class=\"edge\">\n<title>a&#45;&gt;e</title>\n<path fill=\"none\" stroke=\"#000000\" d=\"M59.4665,-144.2022C64.7892,-135.871 71.2396,-125.7748 77.1236,-116.565\"/>\n<polygon fill=\"#000000\" stroke=\"#000000\" points=\"80.1017,-118.4045 82.5362,-108.0931 74.2029,-114.6357 80.1017,-118.4045\"/>\n</g>\n<!-- b -->\n<g id=\"node2\" class=\"node\">\n<title>b</title>\n<ellipse fill=\"#00fa9a\" stroke=\"#00fa9a\" cx=\"97.0957\" cy=\"-306\" rx=\"48.1917\" ry=\"18\"/>\n<text text-anchor=\"middle\" x=\"97.0957\" y=\"-302.3\" font-family=\"Times,serif\" font-size=\"14.00\" fill=\"#000000\">float32[8]</text>\n</g>\n<!-- c -->\n<g id=\"node3\" class=\"node\">\n<title>c</title>\n<polygon fill=\"#87cefa\" stroke=\"#87cefa\" points=\"124.0957,-252 70.0957,-252 70.0957,-216 124.0957,-216 124.0957,-252\"/>\n<text text-anchor=\"middle\" x=\"97.0957\" y=\"-230.3\" font-family=\"Times,serif\" font-size=\"14.00\" fill=\"#000000\">sin</text>\n</g>\n<!-- b&#45;&gt;c -->\n<g id=\"edge1\" class=\"edge\">\n<title>b&#45;&gt;c</title>\n<path fill=\"none\" stroke=\"#000000\" d=\"M97.0957,-287.8314C97.0957,-280.131 97.0957,-270.9743 97.0957,-262.4166\"/>\n<polygon fill=\"#000000\" stroke=\"#000000\" points=\"100.5958,-262.4132 97.0957,-252.4133 93.5958,-262.4133 100.5958,-262.4132\"/>\n</g>\n<!-- d -->\n<g id=\"node5\" class=\"node\">\n<title>d</title>\n<polygon fill=\"#87cefa\" stroke=\"#87cefa\" points=\"168.0957,-180 114.0957,-180 114.0957,-144 168.0957,-144 168.0957,-180\"/>\n<text text-anchor=\"middle\" x=\"141.0957\" y=\"-158.3\" font-family=\"Times,serif\" font-size=\"14.00\" fill=\"#000000\">mul</text>\n</g>\n<!-- c&#45;&gt;d -->\n<g id=\"edge2\" class=\"edge\">\n<title>c&#45;&gt;d</title>\n<path fill=\"none\" stroke=\"#000000\" d=\"M108.1988,-215.8314C113.1632,-207.7079 119.1179,-197.9637 124.5885,-189.0118\"/>\n<polygon fill=\"#000000\" stroke=\"#000000\" points=\"127.6151,-190.7712 129.8432,-180.4133 121.6421,-187.121 127.6151,-190.7712\"/>\n</g>\n<!-- 140406630596816 -->\n<g id=\"node4\" class=\"node\">\n<title>140406630596816</title>\n<ellipse fill=\"#ffc125\" stroke=\"#ffc125\" cx=\"185.0957\" cy=\"-234\" rx=\"42.7926\" ry=\"18\"/>\n<text text-anchor=\"middle\" x=\"185.0957\" y=\"-230.3\" font-family=\"Times,serif\" font-size=\"14.00\" fill=\"#000000\">float32[]</text>\n</g>\n<!-- 140406630596816&#45;&gt;d -->\n<g id=\"edge3\" class=\"edge\">\n<title>140406630596816&#45;&gt;d</title>\n<path fill=\"none\" stroke=\"#000000\" d=\"M174.2193,-216.2022C169.1805,-207.9569 163.0852,-197.9828 157.5041,-188.8501\"/>\n<polygon fill=\"#000000\" stroke=\"#000000\" points=\"160.3537,-186.8009 152.1526,-180.0931 154.3807,-190.451 160.3537,-186.8009\"/>\n</g>\n<!-- d&#45;&gt;e -->\n<g id=\"edge5\" class=\"edge\">\n<title>d&#45;&gt;e</title>\n<path fill=\"none\" stroke=\"#000000\" d=\"M129.2356,-143.8314C123.9328,-135.7079 117.5721,-125.9637 111.7284,-117.0118\"/>\n<polygon fill=\"#000000\" stroke=\"#000000\" points=\"114.5126,-114.8739 106.1155,-108.4133 108.6509,-118.7003 114.5126,-114.8739\"/>\n</g>\n<!-- out_0 -->\n<g id=\"node7\" class=\"node\">\n<title>out_0</title>\n<ellipse fill=\"#ff6a6a\" stroke=\"#000000\" stroke-dasharray=\"5,2\" cx=\"94.0957\" cy=\"-18\" rx=\"32.4942\" ry=\"18\"/>\n<text text-anchor=\"middle\" x=\"94.0957\" y=\"-14.3\" font-family=\"Times,serif\" font-size=\"14.00\" fill=\"#000000\">out_0</text>\n</g>\n<!-- e&#45;&gt;out_0 -->\n<g id=\"edge6\" class=\"edge\">\n<title>e&#45;&gt;out_0</title>\n<path fill=\"none\" stroke=\"#000000\" d=\"M94.0957,-71.8314C94.0957,-64.131 94.0957,-54.9743 94.0957,-46.4166\"/>\n<polygon fill=\"#000000\" stroke=\"#000000\" points=\"97.5958,-46.4132 94.0957,-36.4133 90.5958,-46.4133 97.5958,-46.4132\"/>\n</g>\n</g>\n</svg>\n"
          },
          "metadata": {},
          "execution_count": 18
        }
      ]
    },
    {
      "cell_type": "markdown",
      "source": [
        "See that there is no process the above corresponding to the side-effect. This is a design feature of Jax. \n",
        "\n",
        "**NOTE: We can define and run impure functions in JAX but there is no guarantee how they will behave once translated to Jaxpr**"
      ],
      "metadata": {
        "id": "s1lR30154jSO"
      }
    },
    {
      "cell_type": "markdown",
      "source": [
        "# Function Transformations in JAX\n",
        "\n",
        "JAX not only provides us with a NumPy-like syntax, but also with composable transormations that can be very useful when designing machine learning methods. In this tutorial, we will talk about three of the most basic ones:\n",
        "\n",
        "* JIT-compilation: This feature allow us to just-in-time compile (XLA) and execute our program on a hardware accelarators with minimal modifications in our code. This is very useful to scale applications without being an expert in high-performance computing. \n",
        "\n",
        "* Automatic Vectorization: This feature allows us to automatically transform a a function that works for a single input to a function that works for a vector of inputs (batching). Moreover, JAX allows data parallelization to multiple hardware accelarators.\n",
        "\n",
        "* Differentiation: This feature allows us to perform forward and reverse mode automatic differentiation of arbitrary functions, which is very useful in optimizing Machine Learning models via gradient-based optimizaition. \n",
        "\n",
        "\n",
        "References:\n",
        "- [Tutorial - Automatic Vectorization in JAX](https://colab.research.google.com/github/google/jax/blob/main/docs/jax-101/03-vectorization.ipynb#scrollTo=zMIrmiaZxiJC)\n",
        "- [Tutorial - Autodiff Cookbook](https://colab.research.google.com/github/google/jax/blob/main/docs/notebooks/autodiff_cookbook.ipynb)\n",
        "- [Tutorial - Just In Time Compilation with JAX](https://colab.research.google.com/github/google/jax/blob/main/docs/jax-101/02-jitting.ipynb)\n",
        "- [JAX Documentation](https://jax.readthedocs.io/en/latest/index.html)\n",
        "\n",
        "- [JIT Compilation Explained](https://www.freecodecamp.org/news/just-in-time-compilation-explained/)"
      ],
      "metadata": {
        "id": "eC61P_DnD1R9"
      }
    },
    {
      "cell_type": "code",
      "source": [
        "from jax import jit, grad, vmap\n",
        "import numpy as np"
      ],
      "metadata": {
        "id": "Y47bi_onmPak"
      },
      "execution_count": null,
      "outputs": []
    },
    {
      "cell_type": "markdown",
      "metadata": {
        "id": "Qp3WhqaqvHyD"
      },
      "source": [
        "##  Just In Time Complilation\n",
        "\n",
        "Let's take the *Scaled Exponential Linear Unit*\n",
        "([SELU](https://proceedings.neurips.cc/paper/6698-self-normalizing-neural-networks.pdf)) activation function as an example:"
      ]
    },
    {
      "cell_type": "code",
      "execution_count": null,
      "metadata": {
        "id": "JAXFYtlRvD6p",
        "colab": {
          "base_uri": "https://localhost:8080/"
        },
        "outputId": "0d95da57-67ba-46a4-933d-7ee76924bb49"
      },
      "outputs": [
        {
          "output_type": "stream",
          "name": "stdout",
          "text": [
            "The slowest run took 28.29 times longer than the fastest. This could mean that an intermediate result is being cached.\n",
            "100 loops, best of 5: 4.88 ms per loop\n"
          ]
        }
      ],
      "source": [
        "def selu(x, alpha=1.67, lambda_=1.05):\n",
        "  return lambda_ * jnp.where(x > 0, x, alpha * jnp.exp(x) - alpha)\n",
        "\n",
        "x = jnp.arange(1000000)\n",
        "%timeit selu(x).block_until_ready()"
      ]
    },
    {
      "cell_type": "markdown",
      "metadata": {
        "id": "ecN5lEXe6ncy"
      },
      "source": [
        "Let's use the jit decorator for the SELU function and see how jit can speed-up its application:\n",
        "\n"
      ]
    },
    {
      "cell_type": "code",
      "execution_count": null,
      "metadata": {
        "id": "nJVEwPcH6bQX",
        "colab": {
          "base_uri": "https://localhost:8080/"
        },
        "outputId": "1f6bb93f-fb82-4979-e27c-86ee36207935"
      },
      "outputs": [
        {
          "output_type": "stream",
          "name": "stdout",
          "text": [
            "1000 loops, best of 5: 1.25 ms per loop\n"
          ]
        }
      ],
      "source": [
        "# Define selu_jit as the compiled version of selu.\n",
        "selu_jit = jax.jit(selu)\n",
        "\n",
        "# Warm up\n",
        "''' We ran `selu_jit` once on `x`. This is where JAX does its tracing -- it needs\n",
        " to have some inputs to wrap in tracers, after all. The jaxpr is then compiled \n",
        " using XLA into very efficient code optimized for your GPU or TPU. Subsequent\n",
        " calls to `selu_jit` will now use that code, skipping our old Python \n",
        " implementation entirely. '''\n",
        "selu_jit(x).block_until_ready()\n",
        "\n",
        "%timeit selu_jit(x).block_until_ready()"
      ]
    },
    {
      "cell_type": "markdown",
      "metadata": {
        "id": "hMNKi1mYXQg5"
      },
      "source": [
        "***NOTE: JIT usually saves time when the compiled function is complex and we use it many times, i.e. optimizatoins step in your training loop. Ideally, we would want to jit as much code as possible, i.e. the entire update step.***"
      ]
    },
    {
      "cell_type": "markdown",
      "metadata": {
        "id": "0Oq9S4MZ90TL"
      },
      "source": [
        "**CAREFUL:**\n",
        "* **JIT compilation requires all arrays to have static shapes,**\n",
        "* **JIT compilation is agnostic to the content of the array, so control flow statements might fail.**"
      ]
    },
    {
      "cell_type": "markdown",
      "metadata": {
        "id": "zMIrmiaZxiJC"
      },
      "source": [
        "## Automatic Vectorization in JAX\n",
        "\n",
        "Another very useful feature of JAX is the automatic vectorization. This transform converts a function that runs for a single example to a function that can operate on many examples at the same time, thus alleviating the need for for-loops or making the use of batches in machine learning more natural.\n",
        "\n",
        "Refereces: \n",
        "- [Automatic Vectorization in JAX](https://colab.research.google.com/github/google/jax/blob/main/docs/jax-101/03-vectorization.ipynb#scrollTo=zMIrmiaZxiJC)\n",
        "\n",
        "- [Useful tutorial on vmap and pmap](https://github.com/AakashKumarNain/TF_JAX_tutorials/blob/main/src/notebooks/jax_tutorials/chapter_5_vmap_pmap.ipynb)\n"
      ]
    },
    {
      "cell_type": "markdown",
      "source": [
        "Let's consider the function:"
      ],
      "metadata": {
        "id": "JZBdMMw2vP3z"
      }
    },
    {
      "cell_type": "code",
      "source": [
        "import numpy as np\n",
        "\n",
        "def f(x):\n",
        "  return jnp.tanh(x)"
      ],
      "metadata": {
        "id": "ak2UkMdDvZ3t"
      },
      "execution_count": null,
      "outputs": []
    },
    {
      "cell_type": "markdown",
      "source": [
        "For which we want to compute its first derivative using central finite differences in the domail [- $\\pi$, $\\pi$] using $n=500$ function samples: "
      ],
      "metadata": {
        "id": "2yGuMdWhveZv"
      }
    },
    {
      "cell_type": "code",
      "source": [
        "x = np.linspace(-jnp.pi, jnp.pi, 500)\n",
        "dx = x[1] - x[0]\n",
        "fin_diff = lambda x: (f(x + dx) - f(x - dx)) / (2.0 * dx)"
      ],
      "metadata": {
        "id": "KKBQZhriv3rU"
      },
      "execution_count": null,
      "outputs": []
    },
    {
      "cell_type": "markdown",
      "source": [
        "Now we could compute the derivative of the ``jnp.tanh`` function using the $n$ by employing a for loop:"
      ],
      "metadata": {
        "id": "o--TzyDPv56w"
      }
    },
    {
      "cell_type": "code",
      "source": [
        "fd_loop = np.zeros(x.shape)\n",
        "for i in range(x.shape[0]):\n",
        "  fd_loop[i] = (f(x[i] + dx) - f(x[i] - dx)) / (2.0 * dx)"
      ],
      "metadata": {
        "id": "dRcrTT2vwHS8"
      },
      "execution_count": null,
      "outputs": []
    },
    {
      "cell_type": "markdown",
      "source": [
        "Another way to perform the same operation would be by using the automatic vectorization function transform of JAX:"
      ],
      "metadata": {
        "id": "HxaSsQjewKqW"
      }
    },
    {
      "cell_type": "code",
      "source": [
        "fd_vmap = vmap(fin_diff)(x)"
      ],
      "metadata": {
        "id": "JiOURzBVsdmy"
      },
      "execution_count": null,
      "outputs": []
    },
    {
      "cell_type": "markdown",
      "source": [
        "Let's check the maximum error between these two results:"
      ],
      "metadata": {
        "id": "AKEW44TjwUxs"
      }
    },
    {
      "cell_type": "code",
      "source": [
        "jnp.max(fd_vmap - fd_loop)"
      ],
      "metadata": {
        "colab": {
          "base_uri": "https://localhost:8080/"
        },
        "id": "6qTsa3HYwZAH",
        "outputId": "5341572b-95dc-4039-b166-5a4eb879f885"
      },
      "execution_count": null,
      "outputs": [
        {
          "output_type": "execute_result",
          "data": {
            "text/plain": [
              "DeviceArray(7.122755e-06, dtype=float32)"
            ]
          },
          "metadata": {},
          "execution_count": 26
        }
      ]
    },
    {
      "cell_type": "markdown",
      "source": [
        "## Computing Gradients in JAX\n",
        "\n",
        "The last very useful transform that we will consider is `jax.grad`, which takes a function and returns a new function that computes the gradient of the original function. \n",
        "\n",
        "Let's see it's use by considering a simple exaple of a function that takes a scalar and returns its square:\n"
      ],
      "metadata": {
        "id": "0YwLklTWhN0X"
      }
    },
    {
      "cell_type": "code",
      "source": [
        "def square(x):\n",
        "  return x**2\n",
        "\n",
        "def dx_square(x):\n",
        "  return 2.*x \n",
        "\n",
        "sqr_grad = grad(square)(4.0)\n",
        "analytic_der = dx_square(4.0)"
      ],
      "metadata": {
        "id": "K9-qWTEQx0wz"
      },
      "execution_count": null,
      "outputs": []
    },
    {
      "cell_type": "markdown",
      "source": [
        "Now let's print the error between the analytic and the jax derivative evaluations:"
      ],
      "metadata": {
        "id": "d4uLZtQOyxie"
      }
    },
    {
      "cell_type": "code",
      "source": [
        "sqr_grad - analytic_der"
      ],
      "metadata": {
        "colab": {
          "base_uri": "https://localhost:8080/"
        },
        "id": "ZaGgAob6yw3g",
        "outputId": "56c6087b-7841-4e1b-cff5-1af0ff4748a3"
      },
      "execution_count": null,
      "outputs": [
        {
          "output_type": "execute_result",
          "data": {
            "text/plain": [
              "DeviceArray(0., dtype=float32)"
            ]
          },
          "metadata": {},
          "execution_count": 28
        }
      ]
    },
    {
      "cell_type": "markdown",
      "source": [
        "Applying `jax.grad` to `sum_squared_error` will return a different function, namely the gradient of `sum_squared_error` with respect to its first parameter `x`. "
      ],
      "metadata": {
        "id": "xOUHZ-fkjbKy"
      }
    },
    {
      "cell_type": "markdown",
      "source": [
        "# Composing transformations"
      ],
      "metadata": {
        "id": "dU2Bbf4JhPxE"
      }
    },
    {
      "cell_type": "markdown",
      "source": [
        "The function Transformation discribed above can be combined together in a straigth forward manner:"
      ],
      "metadata": {
        "id": "3NG47f7vgvWj"
      }
    },
    {
      "cell_type": "code",
      "source": [
        "import matplotlib.pyplot as plt\n",
        "\n",
        "@jit\n",
        "def f(x):\n",
        "  return jnp.tanh(x)\n",
        "\n",
        "x = np.linspace(-np.pi, np.pi, 500)\n",
        "\n",
        "# Tip: define functions to operate on a single data-point, then use 'vmap' to vectorize them!\n",
        "plt.figure(1)\n",
        "plt.plot(x, vmap(f)(x))\n",
        "plt.plot(x, vmap(grad(f))(x))\n",
        "plt.plot(x, vmap(grad(grad(f)))(x))\n",
        "plt.plot(x, vmap(grad(grad(grad(f))))(x))\n",
        "plt.plot(x, vmap(grad(grad(grad(grad(f)))))(x))\n",
        "plt.xlabel('$x$')\n",
        "plt.title(\"Gradients of the tanh function\")\n",
        "\n",
        "# Compare against centered finite differences\n",
        "dx = 1e-3\n",
        "fin_diff = lambda x: (f(x + dx) - f(x - dx)) / (2.0 * dx)\n",
        "fd_approx = vmap(fin_diff)(x)\n",
        "\n",
        "plt.figure(2)\n",
        "plt.plot(x, vmap(grad(f))(x))\n",
        "plt.plot(x, fd_approx, '--')\n",
        "plt.xlabel('$x$')\n",
        "plt.ylabel('$df/dx$')\n",
        "plt.title(\"Comparison with finite differences\")\n"
      ],
      "metadata": {
        "id": "xOaiw9EzgyuY",
        "colab": {
          "base_uri": "https://localhost:8080/",
          "height": 590
        },
        "outputId": "589ccdc7-4afb-46cc-a4ef-1c6582b6ef6a"
      },
      "execution_count": null,
      "outputs": [
        {
          "output_type": "execute_result",
          "data": {
            "text/plain": [
              "Text(0.5, 1.0, 'Comparison with finite differences')"
            ]
          },
          "metadata": {},
          "execution_count": 30
        },
        {
          "output_type": "display_data",
          "data": {
            "image/png": "[encoded data removed]",
            "text/plain": [
              "<Figure size 432x288 with 1 Axes>"
            ]
          },
          "metadata": {
            "needs_background": "light"
          }
        },
        {
          "output_type": "display_data",
          "data": {
            "image/png": "[encoded data removed]",
            "text/plain": [
              "<Figure size 432x288 with 1 Axes>"
            ]
          },
          "metadata": {
            "needs_background": "light"
          }
        }
      ]
    },
    {
      "cell_type": "markdown",
      "metadata": {
        "id": "1Op_vnmkjw3z"
      },
      "source": [
        "# Pseudo Random Numbers in JAX\n",
        "\n",
        "Even thought JAX has a syntax that is similar to NumPy in most cases, the pseudo random number generation (PRNG) is a notable exception. \n",
        "\n",
        "The PRNG-generated random numbers and sequences depend on an initial value, the `seed` and each random sampling step is a deterministic function of some `state` that is passed from a sample to the next.\n",
        "\n",
        "In this section, we will introduce the basics of `jax.random` library for generating random number in a reproducible, parallelizable and vectorisable way.\n",
        "\n",
        "References:\n",
        "\n",
        "- [Pseudo Random Numbers in JAX](https://colab.research.google.com/github/google/jax/blob/main/docs/jax-101/05-random-numbers.ipynb)"
      ]
    },
    {
      "cell_type": "markdown",
      "metadata": {
        "id": "5kVpfSV5n1d7"
      },
      "source": [
        "Following the philosophy of the functional programming, JAX does not use a global state. Instead, random functions are used to explicitly define the state, which is referred to as a `key` ."
      ]
    },
    {
      "cell_type": "code",
      "execution_count": null,
      "metadata": {
        "id": "LuaGUVRUvbzQ",
        "outputId": "dd69883e-97d8-41c9-a6ec-1fcf2e2d4284",
        "colab": {
          "base_uri": "https://localhost:8080/"
        }
      },
      "outputs": [
        {
          "output_type": "stream",
          "name": "stdout",
          "text": [
            "[ 0 12]\n"
          ]
        }
      ],
      "source": [
        "from jax import random\n",
        "\n",
        "key = random.PRNGKey(12)\n",
        "\n",
        "print(key)"
      ]
    },
    {
      "cell_type": "markdown",
      "metadata": {
        "id": "XhFpKnW9F2nF"
      },
      "source": [
        "A key is an array of 2 elements that represents a 'random seed'.\n",
        "\n",
        "However, instead of setting it once as in NumPy, any call of a random function in JAX requires a key to be specified. Random functions consume the key, but do not modify it. Feeding the same key to a random function will always result in the same sample being generated:"
      ]
    },
    {
      "cell_type": "code",
      "execution_count": null,
      "metadata": {
        "id": "Tc_Tsv06Fz3l",
        "outputId": "946c357c-a1cc-425f-ba58-f912de569d35",
        "colab": {
          "base_uri": "https://localhost:8080/"
        }
      },
      "outputs": [
        {
          "output_type": "stream",
          "name": "stdout",
          "text": [
            "-0.5135873\n",
            "-0.5135873\n"
          ]
        }
      ],
      "source": [
        "print(random.normal(key))\n",
        "print(random.normal(key))"
      ]
    },
    {
      "cell_type": "markdown",
      "metadata": {
        "id": "foUEgtmTesOx"
      },
      "source": [
        "\n",
        "\n",
        "**NOTE: Never reuse keys (unless you want identical outputs).**"
      ]
    },
    {
      "cell_type": "markdown",
      "metadata": {
        "id": "T4dOLP0GGJuB"
      },
      "source": [
        "In order to avoid identical outputs, we need to `split` the key whenever a random funciton is called. For example:"
      ]
    },
    {
      "cell_type": "code",
      "execution_count": null,
      "metadata": {
        "id": "qChuz1C9CSJe",
        "outputId": "4c6deaed-5b4f-4cca-be72-9e2b452fee94",
        "colab": {
          "base_uri": "https://localhost:8080/"
        }
      },
      "outputs": [
        {
          "output_type": "execute_result",
          "data": {
            "text/plain": [
              "DeviceArray(0.7359279, dtype=float32)"
            ]
          },
          "metadata": {},
          "execution_count": 39
        }
      ],
      "source": [
        "new_key, subkey = random.split(key)\n",
        "normal_sample = random.normal(subkey)\n",
        "normal_sample"
      ]
    },
    {
      "cell_type": "markdown",
      "metadata": {
        "id": "WKQMJQB6cGhV"
      },
      "source": [
        "`split` converts one `key` into several independent keys. As in the handle states section, `split` returns a new state, called the `new_key`, which can be then used to genererate more `subkeys` using `split` and `subkeys` that can be used as input states to functions of the `random` library.\n",
        "\n",
        "**NOTE: Splite the keys as many times as the samples you want to draw from the distribution.**\n",
        "\n",
        "**NOTE: It doesn't really matter which output we call key and which subkey.**\n"
      ]
    },
    {
      "cell_type": "markdown",
      "metadata": {
        "id": "dlaAsObh68R1"
      },
      "source": [
        "`split()` can create as many keys as you need. For example:"
      ]
    },
    {
      "cell_type": "code",
      "execution_count": null,
      "metadata": {
        "id": "hbHZP2xM7Egf"
      },
      "outputs": [],
      "source": [
        "key, *subkeys = random.split(key, num=4)"
      ]
    },
    {
      "cell_type": "code",
      "source": [
        "subkeys"
      ],
      "metadata": {
        "colab": {
          "base_uri": "https://localhost:8080/"
        },
        "id": "bnqeHL-ODHJ5",
        "outputId": "d222d53d-1119-4010-f6c6-c1be7a4a71b7"
      },
      "execution_count": null,
      "outputs": [
        {
          "output_type": "execute_result",
          "data": {
            "text/plain": [
              "[array([4225435153, 1890659353], dtype=uint32),\n",
              " array([2404881503,  816097510], dtype=uint32),\n",
              " array([417843976, 130150937], dtype=uint32)]"
            ]
          },
          "metadata": {},
          "execution_count": 41
        }
      ]
    },
    {
      "cell_type": "markdown",
      "source": [
        "# Pytrees and an example of an MLP\n"
      ],
      "metadata": {
        "id": "CSaa8-S-PC6A"
      }
    },
    {
      "cell_type": "markdown",
      "source": [
        "Pytrees are nested structures , i.e. lists of lists, that JAX supports via its `jax.tree_utils` library. \n",
        "\n",
        "Pytrees are common in machine learning for representing model parameters or data entries. \n",
        "\n",
        "Let's consider the following example of a simple MLP to explain Pytrees and see how they become useful:"
      ],
      "metadata": {
        "id": "m6XIJy6RQZmU"
      }
    },
    {
      "cell_type": "code",
      "source": [
        "import numpy as np\n",
        "\n",
        "def MLP(layers, activation=jax.nn.relu):\n",
        "    ''' Vanilla MLP'''\n",
        "    def init(rng_key):\n",
        "        key, *keys = jax.random.split(rng_key, len(layers))\n",
        "        # Here we define the parameters of the model as a Pytree.\n",
        "        params = list(map(init_layer, keys, layers[:-1], layers[1:]))\n",
        "        return params\n",
        "    def apply(params, inputs):\n",
        "        for W, b in params[:-1]:\n",
        "            outputs = jnp.dot(inputs, W) + b\n",
        "            inputs = activation(outputs)\n",
        "        W, b = params[-1]\n",
        "        outputs = jnp.dot(inputs, W) + b\n",
        "        return outputs\n",
        "    return init, apply\n",
        "\n",
        "# Initialize the parameters of the neural network.\n",
        "def init_layer(key, d_in, d_out):\n",
        "    k1, k2 = jax.random.split(key)\n",
        "    glorot_stddev = 1. / jnp.sqrt((d_in + d_out) / 2.)\n",
        "    W = glorot_stddev * jax.random.normal(k1, (d_in, d_out))\n",
        "    b = jnp.zeros(d_out)\n",
        "    return W, b\n",
        "  \n",
        "key = jax.random.PRNGKey(1000)\n",
        "init, apply  = MLP([1,32,32,1])\n",
        "params = init(jax.random.PRNGKey(1000))\n",
        "\n",
        "\n",
        "xs = np.random.normal(size=(512, 1))\n",
        "ys = xs ** 2"
      ],
      "metadata": {
        "id": "wa3HJNOSOdvq"
      },
      "execution_count": null,
      "outputs": []
    },
    {
      "cell_type": "code",
      "source": [
        "g = jaxpr_graph(apply, params, xs)\n",
        "g"
      ],
      "metadata": {
        "colab": {
          "base_uri": "https://localhost:8080/",
          "height": 613
        },
        "id": "IQioXnyMtR_x",
        "outputId": "ab2b87c5-293f-4fa1-e7a5-a14879b4cc9d"
      },
      "execution_count": null,
      "outputs": [
        {
          "output_type": "execute_result",
          "data": {
            "text/plain": [
              "<graphviz.dot.Digraph at 0x7fb2f74dc810>"
            ],
            "image/svg+xml": "<?xml version=\"1.0\" encoding=\"UTF-8\" standalone=\"no\"?>\n<!DOCTYPE svg PUBLIC \"-//W3C//DTD SVG 1.1//EN\"\n \"http://www.w3.org/Graphics/SVG/1.1/DTD/svg11.dtd\">\n<!-- Generated by graphviz version 2.40.1 (20161225.0304)\n -->\n<!-- Title: %3 Pages: 1 -->\n<svg width=\"432pt\" height=\"444pt\"\n viewBox=\"0.00 0.00 432.00 444.06\" xmlns=\"http://www.w3.org/2000/svg\" xmlns:xlink=\"http://www.w3.org/1999/xlink\">\n<g id=\"graph0\" class=\"graph\" transform=\"scale(.5312 .5312) rotate(0) translate(4 832)\">\n<title>%3</title>\n<polygon fill=\"#ffffff\" stroke=\"transparent\" points=\"-4,4 -4,-832 809.2947,-832 809.2947,4 -4,4\"/>\n<!-- a -->\n<g id=\"node1\" class=\"node\">\n<title>a</title>\n<ellipse fill=\"#00fa9a\" stroke=\"#00fa9a\" cx=\"59.7947\" cy=\"-810\" rx=\"59.5901\" ry=\"18\"/>\n<text text-anchor=\"middle\" x=\"59.7947\" y=\"-806.3\" font-family=\"Times,serif\" font-size=\"14.00\" fill=\"#000000\">float32[1,32]</text>\n</g>\n<!-- h -->\n<g id=\"node8\" class=\"node\">\n<title>h</title>\n<polygon fill=\"#87cefa\" stroke=\"#87cefa\" points=\"244.7947,-756 160.7947,-756 160.7947,-720 244.7947,-720 244.7947,-756\"/>\n<text text-anchor=\"middle\" x=\"202.7947\" y=\"-734.3\" font-family=\"Times,serif\" font-size=\"14.00\" fill=\"#000000\">dot_general</text>\n</g>\n<!-- a&#45;&gt;h -->\n<g id=\"edge2\" class=\"edge\">\n<title>a&#45;&gt;h</title>\n<path fill=\"none\" stroke=\"#000000\" d=\"M90.8236,-794.3771C110.4456,-784.4975 136.1311,-771.5649 157.9511,-760.5786\"/>\n<polygon fill=\"#000000\" stroke=\"#000000\" points=\"159.6792,-763.6272 167.0369,-756.0039 156.5311,-757.375 159.6792,-763.6272\"/>\n</g>\n<!-- b -->\n<g id=\"node2\" class=\"node\">\n<title>b</title>\n<ellipse fill=\"#00fa9a\" stroke=\"#00fa9a\" cx=\"338.7947\" cy=\"-810\" rx=\"52.7911\" ry=\"18\"/>\n<text text-anchor=\"middle\" x=\"338.7947\" y=\"-806.3\" font-family=\"Times,serif\" font-size=\"14.00\" fill=\"#000000\">float32[32]</text>\n</g>\n<!-- i -->\n<g id=\"node9\" class=\"node\">\n<title>i</title>\n<polygon fill=\"#87cefa\" stroke=\"#87cefa\" points=\"390.2947,-756 271.2947,-756 271.2947,-720 390.2947,-720 390.2947,-756\"/>\n<text text-anchor=\"middle\" x=\"330.7947\" y=\"-734.3\" font-family=\"Times,serif\" font-size=\"14.00\" fill=\"#000000\">broadcast_in_dim</text>\n</g>\n<!-- b&#45;&gt;i -->\n<g id=\"edge3\" class=\"edge\">\n<title>b&#45;&gt;i</title>\n<path fill=\"none\" stroke=\"#000000\" d=\"M336.776,-791.8314C335.9204,-784.131 334.903,-774.9743 333.9521,-766.4166\"/>\n<polygon fill=\"#000000\" stroke=\"#000000\" points=\"337.4236,-765.9656 332.8406,-756.4133 330.4664,-766.7386 337.4236,-765.9656\"/>\n</g>\n<!-- c -->\n<g id=\"node3\" class=\"node\">\n<title>c</title>\n<ellipse fill=\"#00fa9a\" stroke=\"#00fa9a\" cx=\"415.7947\" cy=\"-522\" rx=\"64.9885\" ry=\"18\"/>\n<text text-anchor=\"middle\" x=\"415.7947\" y=\"-518.3\" font-family=\"Times,serif\" font-size=\"14.00\" fill=\"#000000\">float32[32,32]</text>\n</g>\n<!-- l -->\n<g id=\"node13\" class=\"node\">\n<title>l</title>\n<polygon fill=\"#87cefa\" stroke=\"#87cefa\" points=\"457.7947,-468 373.7947,-468 373.7947,-432 457.7947,-432 457.7947,-468\"/>\n<text text-anchor=\"middle\" x=\"415.7947\" y=\"-446.3\" font-family=\"Times,serif\" font-size=\"14.00\" fill=\"#000000\">dot_general</text>\n</g>\n<!-- c&#45;&gt;l -->\n<g id=\"edge9\" class=\"edge\">\n<title>c&#45;&gt;l</title>\n<path fill=\"none\" stroke=\"#000000\" d=\"M415.7947,-503.8314C415.7947,-496.131 415.7947,-486.9743 415.7947,-478.4166\"/>\n<polygon fill=\"#000000\" stroke=\"#000000\" points=\"419.2948,-478.4132 415.7947,-468.4133 412.2948,-478.4133 419.2948,-478.4132\"/>\n</g>\n<!-- d -->\n<g id=\"node4\" class=\"node\">\n<title>d</title>\n<ellipse fill=\"#00fa9a\" stroke=\"#00fa9a\" cx=\"551.7947\" cy=\"-522\" rx=\"52.7911\" ry=\"18\"/>\n<text text-anchor=\"middle\" x=\"551.7947\" y=\"-518.3\" font-family=\"Times,serif\" font-size=\"14.00\" fill=\"#000000\">float32[32]</text>\n</g>\n<!-- m -->\n<g id=\"node14\" class=\"node\">\n<title>m</title>\n<polygon fill=\"#87cefa\" stroke=\"#87cefa\" points=\"603.2947,-468 484.2947,-468 484.2947,-432 603.2947,-432 603.2947,-468\"/>\n<text text-anchor=\"middle\" x=\"543.7947\" y=\"-446.3\" font-family=\"Times,serif\" font-size=\"14.00\" fill=\"#000000\">broadcast_in_dim</text>\n</g>\n<!-- d&#45;&gt;m -->\n<g id=\"edge10\" class=\"edge\">\n<title>d&#45;&gt;m</title>\n<path fill=\"none\" stroke=\"#000000\" d=\"M549.776,-503.8314C548.9204,-496.131 547.903,-486.9743 546.9521,-478.4166\"/>\n<polygon fill=\"#000000\" stroke=\"#000000\" points=\"550.4236,-477.9656 545.8406,-468.4133 543.4664,-478.7386 550.4236,-477.9656\"/>\n</g>\n<!-- e -->\n<g id=\"node5\" class=\"node\">\n<title>e</title>\n<ellipse fill=\"#00fa9a\" stroke=\"#00fa9a\" cx=\"622.7947\" cy=\"-234\" rx=\"59.5901\" ry=\"18\"/>\n<text text-anchor=\"middle\" x=\"622.7947\" y=\"-230.3\" font-family=\"Times,serif\" font-size=\"14.00\" fill=\"#000000\">float32[32,1]</text>\n</g>\n<!-- p -->\n<g id=\"node18\" class=\"node\">\n<title>p</title>\n<polygon fill=\"#87cefa\" stroke=\"#87cefa\" points=\"664.7947,-180 580.7947,-180 580.7947,-144 664.7947,-144 664.7947,-180\"/>\n<text text-anchor=\"middle\" x=\"622.7947\" y=\"-158.3\" font-family=\"Times,serif\" font-size=\"14.00\" fill=\"#000000\">dot_general</text>\n</g>\n<!-- e&#45;&gt;p -->\n<g id=\"edge16\" class=\"edge\">\n<title>e&#45;&gt;p</title>\n<path fill=\"none\" stroke=\"#000000\" d=\"M622.7947,-215.8314C622.7947,-208.131 622.7947,-198.9743 622.7947,-190.4166\"/>\n<polygon fill=\"#000000\" stroke=\"#000000\" points=\"626.2948,-190.4132 622.7947,-180.4133 619.2948,-190.4133 626.2948,-190.4132\"/>\n</g>\n<!-- f -->\n<g id=\"node6\" class=\"node\">\n<title>f</title>\n<ellipse fill=\"#00fa9a\" stroke=\"#00fa9a\" cx=\"748.7947\" cy=\"-234\" rx=\"48.1917\" ry=\"18\"/>\n<text text-anchor=\"middle\" x=\"748.7947\" y=\"-230.3\" font-family=\"Times,serif\" font-size=\"14.00\" fill=\"#000000\">float32[1]</text>\n</g>\n<!-- q -->\n<g id=\"node19\" class=\"node\">\n<title>q</title>\n<polygon fill=\"#87cefa\" stroke=\"#87cefa\" points=\"805.2947,-180 686.2947,-180 686.2947,-144 805.2947,-144 805.2947,-180\"/>\n<text text-anchor=\"middle\" x=\"745.7947\" y=\"-158.3\" font-family=\"Times,serif\" font-size=\"14.00\" fill=\"#000000\">broadcast_in_dim</text>\n</g>\n<!-- f&#45;&gt;q -->\n<g id=\"edge17\" class=\"edge\">\n<title>f&#45;&gt;q</title>\n<path fill=\"none\" stroke=\"#000000\" d=\"M748.0377,-215.8314C747.7168,-208.131 747.3353,-198.9743 746.9787,-190.4166\"/>\n<polygon fill=\"#000000\" stroke=\"#000000\" points=\"750.4753,-190.2589 746.5619,-180.4133 743.4813,-190.5503 750.4753,-190.2589\"/>\n</g>\n<!-- g -->\n<g id=\"node7\" class=\"node\">\n<title>g</title>\n<ellipse fill=\"#00fa9a\" stroke=\"#00fa9a\" cx=\"202.7947\" cy=\"-810\" rx=\"64.9885\" ry=\"18\"/>\n<text text-anchor=\"middle\" x=\"202.7947\" y=\"-806.3\" font-family=\"Times,serif\" font-size=\"14.00\" fill=\"#000000\">float32[512,1]</text>\n</g>\n<!-- g&#45;&gt;h -->\n<g id=\"edge1\" class=\"edge\">\n<title>g&#45;&gt;h</title>\n<path fill=\"none\" stroke=\"#000000\" d=\"M202.7947,-791.8314C202.7947,-784.131 202.7947,-774.9743 202.7947,-766.4166\"/>\n<polygon fill=\"#000000\" stroke=\"#000000\" points=\"206.2948,-766.4132 202.7947,-756.4133 199.2948,-766.4133 206.2948,-766.4132\"/>\n</g>\n<!-- j -->\n<g id=\"node10\" class=\"node\">\n<title>j</title>\n<polygon fill=\"#87cefa\" stroke=\"#87cefa\" points=\"289.7947,-684 235.7947,-684 235.7947,-648 289.7947,-648 289.7947,-684\"/>\n<text text-anchor=\"middle\" x=\"262.7947\" y=\"-662.3\" font-family=\"Times,serif\" font-size=\"14.00\" fill=\"#000000\">add</text>\n</g>\n<!-- h&#45;&gt;j -->\n<g id=\"edge4\" class=\"edge\">\n<title>h&#45;&gt;j</title>\n<path fill=\"none\" stroke=\"#000000\" d=\"M217.9352,-719.8314C224.9164,-711.454 233.3337,-701.3531 240.9822,-692.1749\"/>\n<polygon fill=\"#000000\" stroke=\"#000000\" points=\"243.7372,-694.3362 247.4503,-684.4133 238.3596,-689.8548 243.7372,-694.3362\"/>\n</g>\n<!-- i&#45;&gt;j -->\n<g id=\"edge5\" class=\"edge\">\n<title>i&#45;&gt;j</title>\n<path fill=\"none\" stroke=\"#000000\" d=\"M313.6354,-719.8314C305.6435,-711.3694 295.9909,-701.1489 287.2531,-691.8971\"/>\n<polygon fill=\"#000000\" stroke=\"#000000\" points=\"289.5958,-689.2802 280.185,-684.4133 284.5067,-694.0866 289.5958,-689.2802\"/>\n</g>\n<!-- id0 -->\n<g id=\"node11\" class=\"node\">\n<title>id0</title>\n<polygon fill=\"#87cefa\" stroke=\"#87cefa\" points=\"336.7947,-612 188.7947,-612 188.7947,-576 336.7947,-576 336.7947,-612\"/>\n<text text-anchor=\"middle\" x=\"262.7947\" y=\"-590.3\" font-family=\"Times,serif\" font-size=\"14.00\" fill=\"#000000\">custom_jvp_call_jaxpr</text>\n</g>\n<!-- j&#45;&gt;id0 -->\n<g id=\"edge6\" class=\"edge\">\n<title>j&#45;&gt;id0</title>\n<path fill=\"none\" stroke=\"#000000\" d=\"M262.7947,-647.8314C262.7947,-640.131 262.7947,-630.9743 262.7947,-622.4166\"/>\n<polygon fill=\"#000000\" stroke=\"#000000\" points=\"266.2948,-622.4132 262.7947,-612.4133 259.2948,-622.4133 266.2948,-622.4132\"/>\n</g>\n<!-- k -->\n<g id=\"node12\" class=\"node\">\n<title>k</title>\n<ellipse fill=\"#6495ed\" stroke=\"#6495ed\" cx=\"262.7947\" cy=\"-522\" rx=\"69.5877\" ry=\"18\"/>\n<text text-anchor=\"middle\" x=\"262.7947\" y=\"-518.3\" font-family=\"Times,serif\" font-size=\"14.00\" fill=\"#000000\">float32[512,32]</text>\n</g>\n<!-- id0&#45;&gt;k -->\n<g id=\"edge7\" class=\"edge\">\n<title>id0&#45;&gt;k</title>\n<path fill=\"none\" stroke=\"#000000\" d=\"M262.7947,-575.8314C262.7947,-568.131 262.7947,-558.9743 262.7947,-550.4166\"/>\n<polygon fill=\"#000000\" stroke=\"#000000\" points=\"266.2948,-550.4132 262.7947,-540.4133 259.2948,-550.4133 266.2948,-550.4132\"/>\n</g>\n<!-- k&#45;&gt;l -->\n<g id=\"edge8\" class=\"edge\">\n<title>k&#45;&gt;l</title>\n<path fill=\"none\" stroke=\"#000000\" d=\"M296.3712,-506.1993C317.4003,-496.3032 344.8276,-483.3963 368.0935,-472.4476\"/>\n<polygon fill=\"#000000\" stroke=\"#000000\" points=\"369.8876,-475.4716 377.4455,-468.0467 366.907,-469.1378 369.8876,-475.4716\"/>\n</g>\n<!-- n -->\n<g id=\"node15\" class=\"node\">\n<title>n</title>\n<polygon fill=\"#87cefa\" stroke=\"#87cefa\" points=\"502.7947,-396 448.7947,-396 448.7947,-360 502.7947,-360 502.7947,-396\"/>\n<text text-anchor=\"middle\" x=\"475.7947\" y=\"-374.3\" font-family=\"Times,serif\" font-size=\"14.00\" fill=\"#000000\">add</text>\n</g>\n<!-- l&#45;&gt;n -->\n<g id=\"edge11\" class=\"edge\">\n<title>l&#45;&gt;n</title>\n<path fill=\"none\" stroke=\"#000000\" d=\"M430.9352,-431.8314C437.9164,-423.454 446.3337,-413.3531 453.9822,-404.1749\"/>\n<polygon fill=\"#000000\" stroke=\"#000000\" points=\"456.7372,-406.3362 460.4503,-396.4133 451.3596,-401.8548 456.7372,-406.3362\"/>\n</g>\n<!-- m&#45;&gt;n -->\n<g id=\"edge12\" class=\"edge\">\n<title>m&#45;&gt;n</title>\n<path fill=\"none\" stroke=\"#000000\" d=\"M526.6354,-431.8314C518.6435,-423.3694 508.9909,-413.1489 500.2531,-403.8971\"/>\n<polygon fill=\"#000000\" stroke=\"#000000\" points=\"502.5958,-401.2802 493.185,-396.4133 497.5067,-406.0866 502.5958,-401.2802\"/>\n</g>\n<!-- id1 -->\n<g id=\"node16\" class=\"node\">\n<title>id1</title>\n<polygon fill=\"#87cefa\" stroke=\"#87cefa\" points=\"549.7947,-324 401.7947,-324 401.7947,-288 549.7947,-288 549.7947,-324\"/>\n<text text-anchor=\"middle\" x=\"475.7947\" y=\"-302.3\" font-family=\"Times,serif\" font-size=\"14.00\" fill=\"#000000\">custom_jvp_call_jaxpr</text>\n</g>\n<!-- n&#45;&gt;id1 -->\n<g id=\"edge13\" class=\"edge\">\n<title>n&#45;&gt;id1</title>\n<path fill=\"none\" stroke=\"#000000\" d=\"M475.7947,-359.8314C475.7947,-352.131 475.7947,-342.9743 475.7947,-334.4166\"/>\n<polygon fill=\"#000000\" stroke=\"#000000\" points=\"479.2948,-334.4132 475.7947,-324.4133 472.2948,-334.4133 479.2948,-334.4132\"/>\n</g>\n<!-- o -->\n<g id=\"node17\" class=\"node\">\n<title>o</title>\n<ellipse fill=\"#6495ed\" stroke=\"#6495ed\" cx=\"475.7947\" cy=\"-234\" rx=\"69.5877\" ry=\"18\"/>\n<text text-anchor=\"middle\" x=\"475.7947\" y=\"-230.3\" font-family=\"Times,serif\" font-size=\"14.00\" fill=\"#000000\">float32[512,32]</text>\n</g>\n<!-- id1&#45;&gt;o -->\n<g id=\"edge14\" class=\"edge\">\n<title>id1&#45;&gt;o</title>\n<path fill=\"none\" stroke=\"#000000\" d=\"M475.7947,-287.8314C475.7947,-280.131 475.7947,-270.9743 475.7947,-262.4166\"/>\n<polygon fill=\"#000000\" stroke=\"#000000\" points=\"479.2948,-262.4132 475.7947,-252.4133 472.2948,-262.4133 479.2948,-262.4132\"/>\n</g>\n<!-- o&#45;&gt;p -->\n<g id=\"edge15\" class=\"edge\">\n<title>o&#45;&gt;p</title>\n<path fill=\"none\" stroke=\"#000000\" d=\"M508.4188,-218.0209C528.4759,-208.197 554.4877,-195.4565 576.6363,-184.6082\"/>\n<polygon fill=\"#000000\" stroke=\"#000000\" points=\"578.4224,-187.6307 585.8635,-180.0888 575.3433,-181.3443 578.4224,-187.6307\"/>\n</g>\n<!-- r -->\n<g id=\"node20\" class=\"node\">\n<title>r</title>\n<polygon fill=\"#87cefa\" stroke=\"#87cefa\" points=\"709.7947,-108 655.7947,-108 655.7947,-72 709.7947,-72 709.7947,-108\"/>\n<text text-anchor=\"middle\" x=\"682.7947\" y=\"-86.3\" font-family=\"Times,serif\" font-size=\"14.00\" fill=\"#000000\">add</text>\n</g>\n<!-- p&#45;&gt;r -->\n<g id=\"edge18\" class=\"edge\">\n<title>p&#45;&gt;r</title>\n<path fill=\"none\" stroke=\"#000000\" d=\"M637.9352,-143.8314C644.9164,-135.454 653.3337,-125.3531 660.9822,-116.1749\"/>\n<polygon fill=\"#000000\" stroke=\"#000000\" points=\"663.7372,-118.3362 667.4503,-108.4133 658.3596,-113.8548 663.7372,-118.3362\"/>\n</g>\n<!-- q&#45;&gt;r -->\n<g id=\"edge19\" class=\"edge\">\n<title>q&#45;&gt;r</title>\n<path fill=\"none\" stroke=\"#000000\" d=\"M729.8971,-143.8314C722.5669,-135.454 713.7287,-125.3531 705.6978,-116.1749\"/>\n<polygon fill=\"#000000\" stroke=\"#000000\" points=\"708.1254,-113.6343 698.9063,-108.4133 702.8574,-118.2438 708.1254,-113.6343\"/>\n</g>\n<!-- out_0 -->\n<g id=\"node21\" class=\"node\">\n<title>out_0</title>\n<ellipse fill=\"#ff6a6a\" stroke=\"#000000\" stroke-dasharray=\"5,2\" cx=\"682.7947\" cy=\"-18\" rx=\"32.4942\" ry=\"18\"/>\n<text text-anchor=\"middle\" x=\"682.7947\" y=\"-14.3\" font-family=\"Times,serif\" font-size=\"14.00\" fill=\"#000000\">out_0</text>\n</g>\n<!-- r&#45;&gt;out_0 -->\n<g id=\"edge20\" class=\"edge\">\n<title>r&#45;&gt;out_0</title>\n<path fill=\"none\" stroke=\"#000000\" d=\"M682.7947,-71.8314C682.7947,-64.131 682.7947,-54.9743 682.7947,-46.4166\"/>\n<polygon fill=\"#000000\" stroke=\"#000000\" points=\"686.2948,-46.4132 682.7947,-36.4133 679.2948,-46.4133 686.2948,-46.4132\"/>\n</g>\n</g>\n</svg>\n"
          },
          "metadata": {},
          "execution_count": 43
        }
      ]
    },
    {
      "cell_type": "code",
      "source": [
        "apply = jax.jit(apply)"
      ],
      "metadata": {
        "id": "9-_N_m-ctQ-d"
      },
      "execution_count": null,
      "outputs": []
    },
    {
      "cell_type": "code",
      "source": [
        "g = jaxpr_graph(apply, params, xs)\n",
        "g"
      ],
      "metadata": {
        "colab": {
          "base_uri": "https://localhost:8080/",
          "height": 184
        },
        "outputId": "dacb0b1b-1e28-4e86-b6f2-5837ceefef4f",
        "id": "g1sIlLpJB7F9"
      },
      "execution_count": null,
      "outputs": [
        {
          "output_type": "execute_result",
          "data": {
            "text/plain": [
              "<graphviz.dot.Digraph at 0x7fb2f712ee10>"
            ],
            "image/svg+xml": "<?xml version=\"1.0\" encoding=\"UTF-8\" standalone=\"no\"?>\n<!DOCTYPE svg PUBLIC \"-//W3C//DTD SVG 1.1//EN\"\n \"http://www.w3.org/Graphics/SVG/1.1/DTD/svg11.dtd\">\n<!-- Generated by graphviz version 2.40.1 (20161225.0304)\n -->\n<!-- Title: %3 Pages: 1 -->\n<svg width=\"432pt\" height=\"122pt\"\n viewBox=\"0.00 0.00 432.00 121.85\" xmlns=\"http://www.w3.org/2000/svg\" xmlns:xlink=\"http://www.w3.org/1999/xlink\">\n<g id=\"graph0\" class=\"graph\" transform=\"scale(.4687 .4687) rotate(0) translate(4 256)\">\n<title>%3</title>\n<polygon fill=\"#ffffff\" stroke=\"transparent\" points=\"-4,4 -4,-256 917.7889,-256 917.7889,4 -4,4\"/>\n<!-- a -->\n<g id=\"node1\" class=\"node\">\n<title>a</title>\n<ellipse fill=\"#00fa9a\" stroke=\"#00fa9a\" cx=\"59.7947\" cy=\"-234\" rx=\"59.5901\" ry=\"18\"/>\n<text text-anchor=\"middle\" x=\"59.7947\" y=\"-230.3\" font-family=\"Times,serif\" font-size=\"14.00\" fill=\"#000000\">float32[1,32]</text>\n</g>\n<!-- id0 -->\n<g id=\"node8\" class=\"node\">\n<title>id0</title>\n<polygon fill=\"#87cefa\" stroke=\"#87cefa\" points=\"492.2947,-180 431.2947,-180 431.2947,-144 492.2947,-144 492.2947,-180\"/>\n<text text-anchor=\"middle\" x=\"461.7947\" y=\"-158.3\" font-family=\"Times,serif\" font-size=\"14.00\" fill=\"#000000\">xla_call</text>\n</g>\n<!-- a&#45;&gt;id0 -->\n<g id=\"edge1\" class=\"edge\">\n<title>a&#45;&gt;id0</title>\n<path fill=\"none\" stroke=\"#000000\" d=\"M103.9032,-221.6493C111.8251,-219.6242 120.0304,-217.6511 127.7947,-216 232.8341,-193.6632 358.189,-175.6895 421.2717,-167.2391\"/>\n<polygon fill=\"#000000\" stroke=\"#000000\" points=\"421.7625,-170.7047 431.2139,-165.9172 420.8399,-163.7658 421.7625,-170.7047\"/>\n</g>\n<!-- b -->\n<g id=\"node2\" class=\"node\">\n<title>b</title>\n<ellipse fill=\"#00fa9a\" stroke=\"#00fa9a\" cx=\"189.7947\" cy=\"-234\" rx=\"52.7911\" ry=\"18\"/>\n<text text-anchor=\"middle\" x=\"189.7947\" y=\"-230.3\" font-family=\"Times,serif\" font-size=\"14.00\" fill=\"#000000\">float32[32]</text>\n</g>\n<!-- b&#45;&gt;id0 -->\n<g id=\"edge2\" class=\"edge\">\n<title>b&#45;&gt;id0</title>\n<path fill=\"none\" stroke=\"#000000\" d=\"M229.7656,-222.1991C237.0825,-220.0948 244.6595,-217.9526 251.7947,-216 310.4959,-199.9357 378.8073,-182.625 421.1794,-172.0489\"/>\n<polygon fill=\"#000000\" stroke=\"#000000\" points=\"422.2542,-175.3882 431.1115,-169.5747 420.562,-168.5958 422.2542,-175.3882\"/>\n</g>\n<!-- c -->\n<g id=\"node3\" class=\"node\">\n<title>c</title>\n<ellipse fill=\"#00fa9a\" stroke=\"#00fa9a\" cx=\"325.7947\" cy=\"-234\" rx=\"64.9885\" ry=\"18\"/>\n<text text-anchor=\"middle\" x=\"325.7947\" y=\"-230.3\" font-family=\"Times,serif\" font-size=\"14.00\" fill=\"#000000\">float32[32,32]</text>\n</g>\n<!-- c&#45;&gt;id0 -->\n<g id=\"edge3\" class=\"edge\">\n<title>c&#45;&gt;id0</title>\n<path fill=\"none\" stroke=\"#000000\" d=\"M355.9775,-218.0209C375.4735,-207.6995 401.0505,-194.1587 422.1747,-182.9753\"/>\n<polygon fill=\"#000000\" stroke=\"#000000\" points=\"424.0257,-185.9556 431.226,-178.1834 420.7505,-179.7691 424.0257,-185.9556\"/>\n</g>\n<!-- d -->\n<g id=\"node4\" class=\"node\">\n<title>d</title>\n<ellipse fill=\"#00fa9a\" stroke=\"#00fa9a\" cx=\"461.7947\" cy=\"-234\" rx=\"52.7911\" ry=\"18\"/>\n<text text-anchor=\"middle\" x=\"461.7947\" y=\"-230.3\" font-family=\"Times,serif\" font-size=\"14.00\" fill=\"#000000\">float32[32]</text>\n</g>\n<!-- d&#45;&gt;id0 -->\n<g id=\"edge4\" class=\"edge\">\n<title>d&#45;&gt;id0</title>\n<path fill=\"none\" stroke=\"#000000\" d=\"M461.7947,-215.8314C461.7947,-208.131 461.7947,-198.9743 461.7947,-190.4166\"/>\n<polygon fill=\"#000000\" stroke=\"#000000\" points=\"465.2948,-190.4132 461.7947,-180.4133 458.2948,-190.4133 465.2948,-190.4132\"/>\n</g>\n<!-- e -->\n<g id=\"node5\" class=\"node\">\n<title>e</title>\n<ellipse fill=\"#00fa9a\" stroke=\"#00fa9a\" cx=\"591.7947\" cy=\"-234\" rx=\"59.5901\" ry=\"18\"/>\n<text text-anchor=\"middle\" x=\"591.7947\" y=\"-230.3\" font-family=\"Times,serif\" font-size=\"14.00\" fill=\"#000000\">float32[32,1]</text>\n</g>\n<!-- e&#45;&gt;id0 -->\n<g id=\"edge5\" class=\"edge\">\n<title>e&#45;&gt;id0</title>\n<path fill=\"none\" stroke=\"#000000\" d=\"M562.9435,-218.0209C544.7804,-207.9613 521.0957,-194.8437 501.2116,-183.8309\"/>\n<polygon fill=\"#000000\" stroke=\"#000000\" points=\"502.8203,-180.7209 492.3766,-178.9377 499.4288,-186.8445 502.8203,-180.7209\"/>\n</g>\n<!-- f -->\n<g id=\"node6\" class=\"node\">\n<title>f</title>\n<ellipse fill=\"#00fa9a\" stroke=\"#00fa9a\" cx=\"717.7947\" cy=\"-234\" rx=\"48.1917\" ry=\"18\"/>\n<text text-anchor=\"middle\" x=\"717.7947\" y=\"-230.3\" font-family=\"Times,serif\" font-size=\"14.00\" fill=\"#000000\">float32[1]</text>\n</g>\n<!-- f&#45;&gt;id0 -->\n<g id=\"edge6\" class=\"edge\">\n<title>f&#45;&gt;id0</title>\n<path fill=\"none\" stroke=\"#000000\" d=\"M681.0676,-222.1592C674.3387,-220.059 667.3668,-217.9285 660.7947,-216 606.1707,-199.9711 542.6216,-183.019 502.3135,-172.4757\"/>\n<polygon fill=\"#000000\" stroke=\"#000000\" points=\"503.1457,-169.0758 492.586,-169.9378 501.3784,-175.849 503.1457,-169.0758\"/>\n</g>\n<!-- g -->\n<g id=\"node7\" class=\"node\">\n<title>g</title>\n<ellipse fill=\"#00fa9a\" stroke=\"#00fa9a\" cx=\"848.7947\" cy=\"-234\" rx=\"64.9885\" ry=\"18\"/>\n<text text-anchor=\"middle\" x=\"848.7947\" y=\"-230.3\" font-family=\"Times,serif\" font-size=\"14.00\" fill=\"#000000\">float32[512,1]</text>\n</g>\n<!-- g&#45;&gt;id0 -->\n<g id=\"edge7\" class=\"edge\">\n<title>g&#45;&gt;id0</title>\n<path fill=\"none\" stroke=\"#000000\" d=\"M800.7364,-221.8098C792.1217,-219.7676 783.2094,-217.7472 774.7947,-216 677.7666,-195.8536 562.7203,-177.3816 502.7677,-168.1612\"/>\n<polygon fill=\"#000000\" stroke=\"#000000\" points=\"502.9949,-164.6553 492.5805,-166.6021 501.9359,-171.5747 502.9949,-164.6553\"/>\n</g>\n<!-- h -->\n<g id=\"node9\" class=\"node\">\n<title>h</title>\n<ellipse fill=\"#6495ed\" stroke=\"#6495ed\" cx=\"461.7947\" cy=\"-90\" rx=\"64.9885\" ry=\"18\"/>\n<text text-anchor=\"middle\" x=\"461.7947\" y=\"-86.3\" font-family=\"Times,serif\" font-size=\"14.00\" fill=\"#000000\">float32[512,1]</text>\n</g>\n<!-- id0&#45;&gt;h -->\n<g id=\"edge8\" class=\"edge\">\n<title>id0&#45;&gt;h</title>\n<path fill=\"none\" stroke=\"#000000\" d=\"M461.7947,-143.8314C461.7947,-136.131 461.7947,-126.9743 461.7947,-118.4166\"/>\n<polygon fill=\"#000000\" stroke=\"#000000\" points=\"465.2948,-118.4132 461.7947,-108.4133 458.2948,-118.4133 465.2948,-118.4132\"/>\n</g>\n<!-- out_0 -->\n<g id=\"node10\" class=\"node\">\n<title>out_0</title>\n<ellipse fill=\"#ff6a6a\" stroke=\"#000000\" stroke-dasharray=\"5,2\" cx=\"461.7947\" cy=\"-18\" rx=\"32.4942\" ry=\"18\"/>\n<text text-anchor=\"middle\" x=\"461.7947\" y=\"-14.3\" font-family=\"Times,serif\" font-size=\"14.00\" fill=\"#000000\">out_0</text>\n</g>\n<!-- h&#45;&gt;out_0 -->\n<g id=\"edge9\" class=\"edge\">\n<title>h&#45;&gt;out_0</title>\n<path fill=\"none\" stroke=\"#000000\" d=\"M461.7947,-71.8314C461.7947,-64.131 461.7947,-54.9743 461.7947,-46.4166\"/>\n<polygon fill=\"#000000\" stroke=\"#000000\" points=\"465.2948,-46.4132 461.7947,-36.4133 458.2948,-46.4133 465.2948,-46.4132\"/>\n</g>\n</g>\n</svg>\n"
          },
          "metadata": {},
          "execution_count": 48
        }
      ]
    },
    {
      "cell_type": "markdown",
      "source": [
        "Let's define the necessary functions to train the neural network, i.e. the forward pass, the loss and the update functions."
      ],
      "metadata": {
        "id": "4Igj2V7cRh44"
      }
    },
    {
      "cell_type": "code",
      "source": [
        "def loss_fn(params, x, y):\n",
        "  return jnp.mean((apply(params, x) - y) ** 2)\n",
        "\n",
        "@jax.jit\n",
        "def update(params, x, y):\n",
        "  LEARNING_RATE = 0.001\n",
        "  grads = jax.grad(loss_fn)(params, x, y)\n",
        "  # Note that `grads` is a pytree with the same structure as `params`.\n",
        "  # This is handy, because we can apply the SGD update using tree utils:\n",
        "  return jax.tree_multimap(\n",
        "      lambda p, g: p - LEARNING_RATE * g, params, grads\n",
        "  )"
      ],
      "metadata": {
        "id": "7ODATbtER1jc"
      },
      "execution_count": null,
      "outputs": []
    },
    {
      "cell_type": "markdown",
      "source": [
        "Define the training loop and the input dataset:"
      ],
      "metadata": {
        "id": "Tt5lgzi9SEUE"
      }
    },
    {
      "cell_type": "code",
      "source": [
        "import matplotlib.pyplot as plt\n",
        "\n",
        "for _ in range(10000):\n",
        "  params = update(params, xs, ys)\n"
      ],
      "metadata": {
        "id": "wybARDE8SCBn"
      },
      "execution_count": null,
      "outputs": []
    },
    {
      "cell_type": "markdown",
      "source": [
        "Plot the results:"
      ],
      "metadata": {
        "id": "GAX7BeaLSIIt"
      }
    },
    {
      "cell_type": "code",
      "source": [
        "plt.scatter(xs, ys)\n",
        "plt.scatter(xs, apply(params, xs), label='Model prediction')\n",
        "plt.legend()"
      ],
      "metadata": {
        "colab": {
          "base_uri": "https://localhost:8080/",
          "height": 282
        },
        "id": "OlAyOrbTQBS2",
        "outputId": "c22fb1f3-9122-4819-f70b-42d5ae052274"
      },
      "execution_count": null,
      "outputs": [
        {
          "output_type": "execute_result",
          "data": {
            "text/plain": [
              "<matplotlib.legend.Legend at 0x7fb2f7113090>"
            ]
          },
          "metadata": {},
          "execution_count": 52
        },
        {
          "output_type": "display_data",
          "data": {
            "image/png": "[encoded data removed]",
            "text/plain": [
              "<Figure size 432x288 with 1 Axes>"
            ]
          },
          "metadata": {
            "needs_background": "light"
          }
        }
      ]
    },
    {
      "cell_type": "markdown",
      "source": [
        "# An example of Image-2-Image regression using JAX.\n",
        "\n",
        "We will apply what we discussed above to the case of image2image regression for a simple Darcy flow problem.\n",
        "\n",
        "For implementing img2img and the other models in this series of tutorials, we will need:\n",
        "\n",
        "* Import libraries that we are going to use.\n",
        "* Define the model architecture.\n",
        "* Define the data generating class that will fetch mini-batches during training.\n",
        "* Define a class that will handle the training, the model initialization and all auxiliary functions needed to train the model.\n",
        "* Define a function that will read and preprocess the training and testing data.\n",
        "* Define the main function body that will handle all the above processes."
      ],
      "metadata": {
        "id": "swCaTi9ApOFp"
      }
    },
    {
      "cell_type": "markdown",
      "source": [
        "First let's import libraries that we are going to use:\n"
      ],
      "metadata": {
        "id": "BAa9j7UYpa7y"
      }
    },
    {
      "cell_type": "markdown",
      "source": [
        "# Predicting flow through a porous medium\n",
        "\n",
        "Fluid flow through porous media is governed by Darcy's Law, which can be mathematically expressed by the following partial differential equation system,\n",
        "$$ \\nabla \\cdot ( u_0(x) \\nabla s(x)) = f(x), \\quad x \\in \\mathcal{X},$$\n",
        "subject to appropriate boundary conditions\n",
        "\n",
        "$$ s = 0   \\quad \\text{on} \\quad \\Gamma_\\mathcal{X},$$ \n",
        "$$(u_0(x)  \\nabla  s(x)) \\cdot n = g  \\quad \\text{ on } \\Gamma_N, $$\n",
        "where $u$ is permeability of the porous medium, and $s$ is the corresponding fluid pressure. Here we consider a domain $\\mathcal{X} = [0,1] \\times [0,1]$ with a Dirichlet boundary  $\\Gamma_D = \\{ (0,x) \\cup (1,x)\\;|\\;x_2 \\in [0,1] \\subset \\partial \\mathcal{X} \\}$, and a Neumann boundary $\\Gamma_N = \\{ (x,0) \\cup (x,1) \\;|\\;x \\in [0,1]\\subset \\partial \\mathcal{X} \\}$. \n",
        "\n",
        "For a given forcing term $f$ and set of boundary conditions, the approximate solution of system maps the permeability function $u(x)$, for the chosen grid, to the fluid pressure function $s(x)$, on the same grid. \n",
        "\n",
        "We set the Neumann boundary condition to be $g(x) = \\sin(5x)$, the forcing term $f(x) = 5 \\exp( - ((x_1-0.5)^2 + (x_2-0.5)^2))$, and sample the permeability function $u(x)$ from a Gaussian measure, as $u_0(x) = \\exp(u \\cos(x))$ with $u \\sim \\mathcal{N}(0, 7^{3/2}(- \\Delta + 49 I)^{-1.5}$. The training and testing data sets are constructed by sampling the initial condition along a $N_x \\times N_y$ grid and solving the forward problem with the Finite Element library, Fenics. This gives us access to $N_x \\times N_y$ solution values to use for training different operator learning models.\n",
        "\n",
        "For the case, presented we consider $N_x = N_y =256$ which we then subsample to get different resolutions for the input and output functions.\n"
      ],
      "metadata": {
        "id": "zFPBqdbvabih"
      }
    },
    {
      "cell_type": "markdown",
      "source": [
        "<img src=\"\n",
        "https://github.com/PredictiveIntelligenceLab/TRIPODS_Winter_School_2022/raw/main/img2img.png\" align=\"center\"/><br>"
      ],
      "metadata": {
        "id": "Jx3oiQwZ4ntY"
      }
    },
    {
      "cell_type": "code",
      "source": [
        "import jax.numpy as jnp\n",
        "from jax.example_libraries import stax\n",
        "from jax import random, grad, vjp, jit\n",
        "from jax.numpy.linalg import norm\n",
        "from jax.example_libraries.stax import Conv, ConvTranspose, BatchNorm, Relu\n",
        "from jax.example_libraries import optimizers\n",
        "from jax.flatten_util import ravel_pytree\n",
        "import jax\n",
        "\n",
        "import numpy as np\n",
        "\n",
        "import itertools\n",
        "from functools import partial\n",
        "from torch.utils import data\n",
        "from tqdm import trange\n",
        "\n",
        "import matplotlib.pyplot as plt"
      ],
      "metadata": {
        "id": "udZ34YpLp6th"
      },
      "execution_count": null,
      "outputs": []
    },
    {
      "cell_type": "code",
      "source": [
        "from google.colab import drive\n",
        "drive.mount('/content/drive')"
      ],
      "metadata": {
        "colab": {
          "base_uri": "https://localhost:8080/"
        },
        "id": "fK5z5RKZZCoY",
        "outputId": "e09e5d57-cd57-46f3-fece-74efa01da301"
      },
      "execution_count": null,
      "outputs": [
        {
          "output_type": "stream",
          "name": "stdout",
          "text": [
            "Mounted at /content/drive\n"
          ]
        }
      ]
    },
    {
      "cell_type": "markdown",
      "source": [
        "Next let's define the encoder and decoder architectures using the built-in library `stax`. "
      ],
      "metadata": {
        "id": "GMBC-T0CqE0N"
      }
    },
    {
      "cell_type": "code",
      "source": [
        "def Encoder():\n",
        "    init, apply = stax.serial(\n",
        "                              Conv(16, (4, 4), (2, 2), padding=\"SAME\"),\n",
        "                              BatchNorm(), \n",
        "                              Relu,\n",
        "                              Conv(32, (4, 4), (2, 2), padding=\"SAME\"),\n",
        "                              BatchNorm(),\n",
        "                              Relu,\n",
        "                              Conv(64, (4, 4), (2, 2), padding=\"SAME\"),\n",
        "                              BatchNorm(),\n",
        "                              Relu,\n",
        "                              Conv(128, (4, 4), (2, 2), padding=\"SAME\")\n",
        "                              )\n",
        "    return init, apply\n",
        "\n",
        "def Decoder():\n",
        "    init, apply = stax.serial(\n",
        "                              ConvTranspose(128, (4, 4), (2, 2), padding=\"SAME\"),\n",
        "                              BatchNorm(), \n",
        "                              Relu,\n",
        "                              ConvTranspose(64, (4, 4), (2, 2), padding=\"SAME\"),\n",
        "                              BatchNorm(),\n",
        "                              Relu,\n",
        "                              ConvTranspose(32, (4, 4), (2, 2), padding=\"SAME\"),\n",
        "                              BatchNorm(), \n",
        "                              Relu,\n",
        "                              ConvTranspose(1, (4, 4), (2, 2), padding=\"SAME\"),\n",
        "                              )\n",
        "    return init, apply"
      ],
      "metadata": {
        "id": "UTPGYB6nqOb_"
      },
      "execution_count": null,
      "outputs": []
    },
    {
      "cell_type": "markdown",
      "source": [
        "Now we need to create some data generating class that will handle mini-batching for the training process."
      ],
      "metadata": {
        "id": "T71FXmcRqUQ8"
      }
    },
    {
      "cell_type": "code",
      "source": [
        "class DataGenerator(data.Dataset):\n",
        "    def __init__(self, inputs, targets, \n",
        "                 batch_size=128, \n",
        "                 rng_key=random.PRNGKey(1234)):\n",
        "        'Initialization'\n",
        "        self.inputs = inputs\n",
        "        self.targets = targets\n",
        "        self.N = targets.shape[0]\n",
        "        self.batch_size = batch_size\n",
        "        self.key = rng_key\n",
        "\n",
        "    @partial(jit, static_argnums=(0,))\n",
        "    def __data_generation(self, key, inputs, targets):\n",
        "        'Generates data containing batch_size samples'\n",
        "        idx = random.choice(key, self.N, (self.batch_size,), replace=False)\n",
        "        inputs = inputs[idx,...]\n",
        "        targets = targets[idx,...]\n",
        "        return inputs, targets\n",
        "\n",
        "    def __getitem__(self, index):\n",
        "        'Generate one batch of data'\n",
        "        self.key, subkey = random.split(self.key)\n",
        "        inputs, targets = self.__data_generation(self.key, self.inputs, self.targets)\n",
        "        return inputs, targets"
      ],
      "metadata": {
        "colab": {
          "base_uri": "https://localhost:8080/"
        },
        "id": "8cWmLFI5qf2d",
        "outputId": "cfe83af2-456a-4cc8-f414-e8305180a377"
      },
      "execution_count": null,
      "outputs": [
        {
          "output_type": "stream",
          "name": "stderr",
          "text": [
            "WARNING:absl:No GPU/TPU found, falling back to CPU. (Set TF_CPP_MIN_LOG_LEVEL=0 and rerun for more info.)\n"
          ]
        }
      ]
    },
    {
      "cell_type": "markdown",
      "source": [
        "Now we define a class that contains the main body of the process of image-2-image regression. "
      ],
      "metadata": {
        "id": "O761wIYbqg9t"
      }
    },
    {
      "cell_type": "code",
      "source": [
        "class img2img:\n",
        "    # Initialize the class\n",
        "    def __init__(self, res, init_key=random.PRNGKey(0)):\n",
        "        # Define encoder and decoder networks\n",
        "        self.encoder_init, self.encoder_apply = Encoder()\n",
        "        self.decoder_init, self.decoder_apply = Decoder()\n",
        "        \n",
        "        # Initialize parameters\n",
        "        k1, k2 = random.split(init_key, 2)\n",
        "        out_dim, encoder_params = self.encoder_init(k1, (-1, res, res, 1))\n",
        "        _, decoder_params = self.decoder_init(k2, out_dim)\n",
        "        params = (encoder_params, decoder_params)\n",
        "        _, self.unravel = ravel_pytree(params)\n",
        "        \n",
        "        # Optimizer initialization and update functions\n",
        "        lr = optimizers.exponential_decay(1e-3, decay_steps=100, decay_rate=0.99)\n",
        "        self.opt_init, self.opt_update, self.get_params = optimizers.adam(lr)\n",
        "        self.opt_state = self.opt_init(params)\n",
        "        \n",
        "        # Logger\n",
        "        self.itercount = itertools.count()\n",
        "        self.loss_log = []\n",
        "        \n",
        "    @partial(jit, static_argnums=(0,))\n",
        "    def loss(self, params, batch):\n",
        "        encoder_params, decoder_params = params\n",
        "        inputs, targets = batch\n",
        "        inputs = self.encoder_apply(encoder_params, inputs)\n",
        "        outputs = self.decoder_apply(decoder_params, inputs)\n",
        "        loss = np.mean((targets-outputs)**2)\n",
        "        return loss\n",
        "    \n",
        "    @partial(jit, static_argnums=(0,))\n",
        "    def step(self, i, opt_state, batch):\n",
        "        params = self.get_params(opt_state)\n",
        "        gradients = grad(self.loss)(params, batch)\n",
        "        return self.opt_update(i, gradients, opt_state)\n",
        "\n",
        "    def train(self, dataset, nIter = 10):\n",
        "        data = iter(dataset)\n",
        "        pbar = trange(nIter)\n",
        "        # Main training loop\n",
        "        for it in pbar:\n",
        "            # Run one gradient descent update\n",
        "            batch = next(data)\n",
        "            self.opt_state = self.step(next(self.itercount), self.opt_state, batch)  \n",
        "            if it % 100 == 0:\n",
        "                # Logger\n",
        "                params = self.get_params(self.opt_state)\n",
        "                loss = self.loss(params, batch)\n",
        "                self.loss_log.append(loss)\n",
        "                pbar.set_postfix({'Loss': loss})\n",
        "\n",
        "    @partial(jit, static_argnums=(0,))\n",
        "    def predict(self, params, inputs):\n",
        "        encoder_params, decoder_params = params\n",
        "        inputs = self.encoder_apply(encoder_params, inputs)\n",
        "        outputs = self.decoder_apply(decoder_params, inputs)\n",
        "        return outputs\n",
        "        \n",
        "    def count_params(self):\n",
        "        params = self.get_params(self.opt_state)\n",
        "        params_flat, _ = ravel_pytree(params)\n",
        "        print(\"The number of model parameters is:\",params_flat.shape[0])"
      ],
      "metadata": {
        "id": "IV6DmDEDqusa"
      },
      "execution_count": null,
      "outputs": []
    },
    {
      "cell_type": "markdown",
      "source": [
        "Now we can define the training parameters"
      ],
      "metadata": {
        "id": "6JA4nDkuq63H"
      }
    },
    {
      "cell_type": "code",
      "source": [
        "# Load data\n",
        "ntrain = 5000\n",
        "ntest  = 5000\n",
        "s = 256\n",
        "sub = 4\n",
        "h = s//sub\n",
        "Train = False\n",
        "\n",
        "if Train:\n",
        "    d = np.load(\"/content/drive/MyDrive/Tripods_Winter_School_2022/train_darcy_dataset.npz\")\n",
        "    X_train   = d[\"U_train\"].reshape(ntrain,s, s)[:,::sub,::sub,None]\n",
        "    Y_train   = d[\"s_train\"].reshape(ntrain,s, s)[:,::sub,::sub,None]\n",
        "    dataset = DataGenerator(X_train, Y_train, batch_size = 100)\n",
        "\n",
        "\n",
        "d = np.load(\"/content/drive/MyDrive/Tripods_Winter_School_2022/test_darcy_dataset.npz\")\n",
        "X_test   = d[\"U_test\"].reshape(ntest,s,s)[:,::sub,::sub,None]\n",
        "Y_test   = d[\"s_test\"].reshape(ntest,s,s)[:,::sub,::sub,None]\n",
        "\n",
        "del d\n",
        "\n",
        "res = X_test.shape[1]"
      ],
      "metadata": {
        "id": "iZ0mKAfmrG9I"
      },
      "execution_count": null,
      "outputs": []
    },
    {
      "cell_type": "markdown",
      "source": [
        "Let's plot an input and an output of the model:"
      ],
      "metadata": {
        "id": "_qsq920JXH84"
      }
    },
    {
      "cell_type": "code",
      "source": [
        "fig, _axs = plt.subplots(nrows=1, ncols=2, figsize=(15,6))\n",
        "axs = _axs.flatten()\n",
        " \n",
        "ax1 = axs[0]\n",
        "ax2 = axs[1]\n",
        "\n",
        "ux = jnp.exp(X_test[0,:,:,0]*jnp.cos(jnp.linspace(0,1,X_test.shape[1])))\n",
        "\n",
        "# Plot 1\n",
        "cntr1 = ax1.imshow(ux, cmap='RdBu', vmin=z.min(), vmax=z.max(),\n",
        "                    extent=[0,1,0,1],\n",
        "                    interpolation='quadric', origin='lower', aspect='auto')\n",
        "fig.colorbar(cntr1, ax=ax1)\n",
        "ax1.set(xlim=(0, 1), ylim=(0, 1))\n",
        "ax1.set_xlabel(\"$x_1$\")\n",
        "ax1.set_ylabel(\"$x_2$\")\n",
        "ax1.ticklabel_format(axis=\"y\", style=\"plain\", scilimits=(0,0))\n",
        "ax1.set_title(\"Permeability\")\n",
        "\n",
        "# Plot 2\n",
        "cntr2 = ax2.imshow(Y_test[0,:,:,0], cmap='RdBu', vmin=Y_test[0,:,:,0].min(), vmax=Y_test[0,:,:,0].max(),\n",
        "      extent=[0,1,0,1],\n",
        "      interpolation='quadric', origin='lower', aspect='auto')\n",
        "fig.colorbar(cntr2, ax=ax2)\n",
        "ax2.set(xlim=(0, 1), ylim=(0, 1))\n",
        "ax2.set_xlabel(\"$y_1$\")\n",
        "ax2.set_ylabel(\"$y_2$\")\n",
        "ax2.ticklabel_format(axis=\"y\", style=\"plain\", scilimits=(0,0))\n",
        "ax2.set_title(\"$Output$\")\n"
      ],
      "metadata": {
        "colab": {
          "base_uri": "https://localhost:8080/",
          "height": 238
        },
        "id": "y8TpGdDqXHe1",
        "outputId": "599ff8c8-21b4-4698-9ae7-560545e7f337"
      },
      "execution_count": null,
      "outputs": [
        {
          "output_type": "error",
          "ename": "NameError",
          "evalue": "ignored",
          "traceback": [
            "\u001b[0;31m---------------------------------------------------------------------------\u001b[0m",
            "\u001b[0;31mNameError\u001b[0m                                 Traceback (most recent call last)",
            "\u001b[0;32m<ipython-input-1-a362a47ac639>\u001b[0m in \u001b[0;36m<module>\u001b[0;34m()\u001b[0m\n\u001b[0;32m----> 1\u001b[0;31m \u001b[0mfig\u001b[0m\u001b[0;34m,\u001b[0m \u001b[0m_axs\u001b[0m \u001b[0;34m=\u001b[0m \u001b[0mplt\u001b[0m\u001b[0;34m.\u001b[0m\u001b[0msubplots\u001b[0m\u001b[0;34m(\u001b[0m\u001b[0mnrows\u001b[0m\u001b[0;34m=\u001b[0m\u001b[0;36m1\u001b[0m\u001b[0;34m,\u001b[0m \u001b[0mncols\u001b[0m\u001b[0;34m=\u001b[0m\u001b[0;36m2\u001b[0m\u001b[0;34m,\u001b[0m \u001b[0mfigsize\u001b[0m\u001b[0;34m=\u001b[0m\u001b[0;34m(\u001b[0m\u001b[0;36m15\u001b[0m\u001b[0;34m,\u001b[0m\u001b[0;36m6\u001b[0m\u001b[0;34m)\u001b[0m\u001b[0;34m)\u001b[0m\u001b[0;34m\u001b[0m\u001b[0;34m\u001b[0m\u001b[0m\n\u001b[0m\u001b[1;32m      2\u001b[0m \u001b[0maxs\u001b[0m \u001b[0;34m=\u001b[0m \u001b[0m_axs\u001b[0m\u001b[0;34m.\u001b[0m\u001b[0mflatten\u001b[0m\u001b[0;34m(\u001b[0m\u001b[0;34m)\u001b[0m\u001b[0;34m\u001b[0m\u001b[0;34m\u001b[0m\u001b[0m\n\u001b[1;32m      3\u001b[0m \u001b[0;34m\u001b[0m\u001b[0m\n\u001b[1;32m      4\u001b[0m \u001b[0max1\u001b[0m \u001b[0;34m=\u001b[0m \u001b[0maxs\u001b[0m\u001b[0;34m[\u001b[0m\u001b[0;36m0\u001b[0m\u001b[0;34m]\u001b[0m\u001b[0;34m\u001b[0m\u001b[0;34m\u001b[0m\u001b[0m\n\u001b[1;32m      5\u001b[0m \u001b[0max2\u001b[0m \u001b[0;34m=\u001b[0m \u001b[0maxs\u001b[0m\u001b[0;34m[\u001b[0m\u001b[0;36m1\u001b[0m\u001b[0;34m]\u001b[0m\u001b[0;34m\u001b[0m\u001b[0;34m\u001b[0m\u001b[0m\n",
            "\u001b[0;31mNameError\u001b[0m: name 'plt' is not defined"
          ]
        }
      ]
    },
    {
      "cell_type": "markdown",
      "source": [
        "Let's count the model parameters:"
      ],
      "metadata": {
        "id": "XPu1woHMrLuO"
      }
    },
    {
      "cell_type": "code",
      "source": [
        "# Initialize img2img regression model\n",
        "model = img2img(res)\n",
        "model.count_params()"
      ],
      "metadata": {
        "colab": {
          "base_uri": "https://localhost:8080/"
        },
        "id": "wTuWEmt-rOIU",
        "outputId": "bce7427e-ff10-493d-e685-1aa5c3ee5bcf"
      },
      "execution_count": null,
      "outputs": [
        {
          "output_type": "stream",
          "name": "stdout",
          "text": [
            "The number of model parameters is: 599921\n"
          ]
        }
      ]
    },
    {
      "cell_type": "markdown",
      "source": [
        "Let's train the model for some iterations (optional because we can load parameters)"
      ],
      "metadata": {
        "id": "fj4G8-u3rQ1Y"
      }
    },
    {
      "cell_type": "code",
      "source": [
        "if Train:\n",
        "    model.train(dataset, nIter=50000)\n",
        "\n",
        "flat_params = np.load('/content/drive/MyDrive/Tripods_Winter_School_2022/img2img_parameters_%dx%d.npy'%(h,h))\n",
        "opt_params = model.unravel(flat_params)"
      ],
      "metadata": {
        "id": "gJSMRlcwrVlW"
      },
      "execution_count": null,
      "outputs": []
    },
    {
      "cell_type": "markdown",
      "source": [
        "We can now make predictions"
      ],
      "metadata": {
        "id": "-g1IJEAOrppp"
      }
    },
    {
      "cell_type": "code",
      "source": [
        "if Train:\n",
        "    opt_params = model.get_params(model.opt_state)\n",
        "\n",
        "Y_pred = model.predict(opt_params, X_test)"
      ],
      "metadata": {
        "id": "72SxSFsKrrp7"
      },
      "execution_count": null,
      "outputs": []
    },
    {
      "cell_type": "markdown",
      "source": [
        "And finally compute the error vector"
      ],
      "metadata": {
        "id": "SCxY2000ry6w"
      }
    },
    {
      "cell_type": "code",
      "source": [
        "error = []\n",
        "for i in range(0,ntrain):\n",
        "    error.append(norm(Y_test[i,:,:].flatten() - Y_pred[i,:,:].flatten(),2)/norm(Y_test[i,:,:].flatten(),2))\n",
        "print(\"The average test u error is %e the standard deviation is %e the min error is %e and the max error is %e\"%(np.mean(error),np.std(error),np.min(error),np.max(error)))"
      ],
      "metadata": {
        "id": "uHl_V81jhNRp",
        "colab": {
          "base_uri": "https://localhost:8080/"
        },
        "outputId": "73e65cc2-e2d9-4054-fcca-795ee4e66490"
      },
      "execution_count": null,
      "outputs": [
        {
          "output_type": "stream",
          "name": "stdout",
          "text": [
            "The average test u error is 1.261780e-02 the standard deviation is 4.682725e-03 the min error is 4.651347e-03 and the max error is 4.365892e-02\n"
          ]
        }
      ]
    },
    {
      "cell_type": "code",
      "source": [
        "# Save trained model parameters\n",
        "saveParameters = False\n",
        "if saveParameters:\n",
        "    opt_params_flat, _ = ravel_pytree(opt_params)\n",
        "    np.save(\"img2img_parameters_%dx%d.npy\"%(h,h), opt_params_flat)"
      ],
      "metadata": {
        "id": "qoIZqa0kM5Hd"
      },
      "execution_count": null,
      "outputs": []
    },
    {
      "cell_type": "markdown",
      "source": [
        "# END OF THE FIRST TUTORIAL"
      ],
      "metadata": {
        "id": "nWSWyNpQwgU_"
      }
    }
  ]
}